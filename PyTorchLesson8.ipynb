{
  "nbformat": 4,
  "nbformat_minor": 0,
  "metadata": {
    "colab": {
      "provenance": [],
      "authorship_tag": "ABX9TyMu5LuNKKkBzMAwdpgbOiPE",
      "include_colab_link": true
    },
    "kernelspec": {
      "name": "python3",
      "display_name": "Python 3"
    },
    "language_info": {
      "name": "python"
    }
  },
  "cells": [
    {
      "cell_type": "markdown",
      "metadata": {
        "id": "view-in-github",
        "colab_type": "text"
      },
      "source": [
        "<a href=\"https://colab.research.google.com/github/dfridland/PyTorch/blob/HW8/PyTorchLesson8.ipynb\" target=\"_parent\"><img src=\"https://colab.research.google.com/assets/colab-badge.svg\" alt=\"Open In Colab\"/></a>"
      ]
    },
    {
      "cell_type": "code",
      "execution_count": 11,
      "metadata": {
        "id": "mHjIfvPxb12j"
      },
      "outputs": [],
      "source": [
        "import torch\n",
        "import torch.nn as nn\n",
        "import torch.functional as F\n",
        "import torch.optim as optim\n",
        "import torchvision\n",
        "from torchvision import datasets, transforms\n",
        "import numpy as np\n",
        "import matplotlib.pyplot as plt\n"
      ]
    },
    {
      "cell_type": "code",
      "source": [
        "device = 'cuda' if torch.cuda.is_available() else 'cpu'\n",
        "\n",
        "transform = transforms.Compose([\n",
        "    transforms.ToTensor()\n",
        "])\n",
        "\n",
        "dataset =  datasets.MNIST(\n",
        "    '.',\n",
        "    train=True,\n",
        "    download = True, \n",
        "    transform=transform\n",
        ")\n"
      ],
      "metadata": {
        "colab": {
          "base_uri": "https://localhost:8080/"
        },
        "id": "lAYPp_TDcPC3",
        "outputId": "6fc5d997-3237-4c31-d6db-2e074dc37ce3"
      },
      "execution_count": 6,
      "outputs": [
        {
          "output_type": "stream",
          "name": "stdout",
          "text": [
            "Downloading http://yann.lecun.com/exdb/mnist/train-images-idx3-ubyte.gz\n",
            "Downloading http://yann.lecun.com/exdb/mnist/train-images-idx3-ubyte.gz to ./MNIST/raw/train-images-idx3-ubyte.gz\n"
          ]
        },
        {
          "output_type": "stream",
          "name": "stderr",
          "text": [
            "100%|██████████| 9912422/9912422 [00:00<00:00, 10043956.20it/s]\n"
          ]
        },
        {
          "output_type": "stream",
          "name": "stdout",
          "text": [
            "Extracting ./MNIST/raw/train-images-idx3-ubyte.gz to ./MNIST/raw\n",
            "\n",
            "Downloading http://yann.lecun.com/exdb/mnist/train-labels-idx1-ubyte.gz\n",
            "Downloading http://yann.lecun.com/exdb/mnist/train-labels-idx1-ubyte.gz to ./MNIST/raw/train-labels-idx1-ubyte.gz\n"
          ]
        },
        {
          "output_type": "stream",
          "name": "stderr",
          "text": [
            "100%|██████████| 28881/28881 [00:00<00:00, 18865549.58it/s]\n"
          ]
        },
        {
          "output_type": "stream",
          "name": "stdout",
          "text": [
            "Extracting ./MNIST/raw/train-labels-idx1-ubyte.gz to ./MNIST/raw\n",
            "\n",
            "Downloading http://yann.lecun.com/exdb/mnist/t10k-images-idx3-ubyte.gz\n",
            "Downloading http://yann.lecun.com/exdb/mnist/t10k-images-idx3-ubyte.gz to ./MNIST/raw/t10k-images-idx3-ubyte.gz\n"
          ]
        },
        {
          "output_type": "stream",
          "name": "stderr",
          "text": [
            "100%|██████████| 1648877/1648877 [00:00<00:00, 39823173.33it/s]\n"
          ]
        },
        {
          "output_type": "stream",
          "name": "stdout",
          "text": [
            "Extracting ./MNIST/raw/t10k-images-idx3-ubyte.gz to ./MNIST/raw\n",
            "\n",
            "Downloading http://yann.lecun.com/exdb/mnist/t10k-labels-idx1-ubyte.gz\n",
            "Downloading http://yann.lecun.com/exdb/mnist/t10k-labels-idx1-ubyte.gz to ./MNIST/raw/t10k-labels-idx1-ubyte.gz\n"
          ]
        },
        {
          "output_type": "stream",
          "name": "stderr",
          "text": [
            "100%|██████████| 4542/4542 [00:00<00:00, 10275366.11it/s]\n"
          ]
        },
        {
          "output_type": "stream",
          "name": "stdout",
          "text": [
            "Extracting ./MNIST/raw/t10k-labels-idx1-ubyte.gz to ./MNIST/raw\n",
            "\n"
          ]
        }
      ]
    },
    {
      "cell_type": "code",
      "source": [
        "img_1, label_1 = dataset[10]\n",
        "img_2, label_2 = dataset[6]\n",
        "\n",
        "print(f' Distance between classes in pixels {label_1} and {label_2}')\n",
        "print(torch.mean(torch.square(img_1 - img_2)).item())\n",
        "\n",
        "grid = torchvision.utils.make_grid([img_1, img_2])\n",
        "plt.imshow(grid.permute(1,2,0));                 \n"
      ],
      "metadata": {
        "colab": {
          "base_uri": "https://localhost:8080/",
          "height": 372
        },
        "id": "pQjJGm_ngnYJ",
        "outputId": "8c7091ed-9f0f-461a-af3c-ad890ff53bef"
      },
      "execution_count": 14,
      "outputs": [
        {
          "output_type": "stream",
          "name": "stdout",
          "text": [
            " Distance between classes in pixels 3 and 1\n",
            "0.08597984164953232\n"
          ]
        },
        {
          "output_type": "display_data",
          "data": {
            "text/plain": [
              "<Figure size 640x480 with 1 Axes>"
            ],
            "image/png": "[encoded data removed]"
          },
          "metadata": {}
        }
      ]
    },
    {
      "cell_type": "code",
      "source": [
        "img_3, label_3 = dataset[30]\n",
        "\n",
        "print(f' Distance between classes in pixels {label_1} and {label_3}')\n",
        "print(torch.mean(torch.square(img_1 - img_3)).item())\n",
        "\n",
        "grid = torchvision.utils.make_grid([img_1, img_3])\n",
        "plt.imshow(grid.permute(1,2,0));   "
      ],
      "metadata": {
        "colab": {
          "base_uri": "https://localhost:8080/",
          "height": 372
        },
        "id": "h9fMwnysicBM",
        "outputId": "c5b9d7a0-c43f-44e9-c236-518ad45d509e"
      },
      "execution_count": 15,
      "outputs": [
        {
          "output_type": "stream",
          "name": "stdout",
          "text": [
            " Distance between classes in pixels 3 and 3\n",
            "0.11974499374628067\n"
          ]
        },
        {
          "output_type": "display_data",
          "data": {
            "text/plain": [
              "<Figure size 640x480 with 1 Axes>"
            ],
            "image/png": "[encoded data removed]"
          },
          "metadata": {}
        }
      ]
    },
    {
      "cell_type": "code",
      "source": [
        "class TinyModel(nn.Module):\n",
        "  def __init__(self, num_classes):\n",
        "    super().__init__()\n",
        "    self.conv1 = nn.Conv2d(in_channels=1, out_channels=4, kernel_size=3)\n",
        "    self.pool = nn.MaxPool2d(kernel_size=2)\n",
        "    self.relu = nn.ReLU()\n",
        "    self.conv2 = nn.Conv2d(in_channels=4,\n",
        "                           out_channels=8,\n",
        "                           kernel_size=3)\n",
        "    self.fc1= nn.Linear(in_features=200,\n",
        "                        out_features=128) \n",
        "    self.fc2= nn.Linear(in_features=128,\n",
        "                        out_features=num_classes)\n",
        "    \n",
        "  def forward(self, x):\n",
        "      x = self.conv1(x)\n",
        "      x = self.pool(x)\n",
        "      x = self.relu(x)\n",
        "      x = self.conv2(x)\n",
        "      x = self.pool(x)\n",
        "      x = self.relu(x)\n",
        "      x = x.reshape((-1, 200))\n",
        "      emb = self.fc1(x)\n",
        "      x = self.fc2(emb)\n",
        "      return x, emb"
      ],
      "metadata": {
        "id": "EP0d_WLYjAYB"
      },
      "execution_count": 35,
      "outputs": []
    },
    {
      "cell_type": "code",
      "source": [
        "def train(model, dataloader):\n",
        "  criterion = nn.CrossEntropyLoss()\n",
        "  optimizer = torch.optim.Adam(model.parameters(), lr=0.001)\n",
        "  model.to(device)\n",
        "  for step, (imgs, labels) in enumerate(dataloader):\n",
        "    imgs, labels = imgs.to(device), labels.to(device)\n",
        "    pred, _ = model(imgs)\n",
        "    loss = criterion(pred, labels)\n",
        "    optimizer.zero_grad()\n",
        "    loss.backward()\n",
        "    optimizer.step()\n",
        "    if step % 100 == 0:\n",
        "      print(f'Loss is {loss.item()}')\n",
        "  return model  "
      ],
      "metadata": {
        "id": "0GpbXDAUu0BA"
      },
      "execution_count": 36,
      "outputs": []
    },
    {
      "cell_type": "code",
      "source": [
        "dataloader = torch.utils.data.DataLoader(\n",
        "    dataset,\n",
        "    batch_size=256,\n",
        "    shuffle=True\n",
        ")"
      ],
      "metadata": {
        "id": "SP_f5cYhwIwL"
      },
      "execution_count": 37,
      "outputs": []
    },
    {
      "cell_type": "code",
      "source": [
        "model = TinyModel(10)\n",
        "model = train(model, dataloader)"
      ],
      "metadata": {
        "colab": {
          "base_uri": "https://localhost:8080/"
        },
        "id": "RW8VvPw3wevC",
        "outputId": "6f90baa9-8d78-441f-ee41-d1fc7730edc0"
      },
      "execution_count": 44,
      "outputs": [
        {
          "output_type": "stream",
          "name": "stdout",
          "text": [
            "Loss is 2.308699607849121\n",
            "Loss is 0.3206958472728729\n",
            "Loss is 0.2836597263813019\n"
          ]
        }
      ]
    },
    {
      "cell_type": "code",
      "source": [
        "model.to('cpu')\n",
        "_, emb_1 = model(img_1[None])\n",
        "_, emb_2 = model(img_2[None])\n",
        "_, emb_3 = model(img_3[None])"
      ],
      "metadata": {
        "id": "1wP4IZuKxDTA"
      },
      "execution_count": 45,
      "outputs": []
    },
    {
      "cell_type": "code",
      "source": [
        "print(f'The distance between classes {label_1} and {label_2}')\n",
        "print(torch.mean(torch.square(emb_1 - emb_2)). item())\n",
        "\n",
        "print(f'The distance between classes {label_1} and {label_3}')\n",
        "print(torch.mean(torch.square(emb_1 - emb_3)). item())"
      ],
      "metadata": {
        "colab": {
          "base_uri": "https://localhost:8080/"
        },
        "id": "h97M3kMxz-bM",
        "outputId": "99f02b21-a773-440b-8287-b4c831ddde4e"
      },
      "execution_count": 46,
      "outputs": [
        {
          "output_type": "stream",
          "name": "stdout",
          "text": [
            "The distance between classes 3 and 1\n",
            "1.282254695892334\n",
            "The distance between classes 3 and 3\n",
            "0.5822452306747437\n"
          ]
        }
      ]
    }
  ]
}