{
  "cells": [
    {
      "cell_type": "code",
      "execution_count": 3,
      "metadata": {
        "id": "Vzo1BJUyLfJX"
      },
      "outputs": [],
      "source": [
        "import torch"
      ]
    },
    {
      "cell_type": "code",
      "execution_count": null,
      "metadata": {
        "id": "1jNkKjS3LfJd"
      },
      "outputs": [],
      "source": [
        "# Создайте случайный FloatTensor размера 3x4x5"
      ]
    },
    {
      "cell_type": "code",
      "source": [
        "float_tensor =torch.randn(3,4,5).float()\n",
        "float_tensor"
      ],
      "metadata": {
        "colab": {
          "base_uri": "https://localhost:8080/"
        },
        "id": "xABFz1q6L37o",
        "outputId": "3d7a41ee-d088-4f5d-fc4a-f3c89c015106"
      },
      "execution_count": 4,
      "outputs": [
        {
          "output_type": "execute_result",
          "data": {
            "text/plain": [
              "tensor([[[ 7.1969e-01, -5.6734e-01,  6.0060e-02,  1.7912e+00,  1.7122e+00],\n",
              "         [ 1.8449e-01, -8.8299e-01, -1.6526e+00, -2.3604e+00, -1.3796e+00],\n",
              "         [ 7.7389e-01, -1.1597e+00, -1.8535e+00,  2.1576e-01,  1.0610e+00],\n",
              "         [ 3.3332e-02,  2.0142e+00, -9.5532e-01, -1.3384e+00,  2.6114e-01]],\n",
              "\n",
              "        [[-2.7094e+00, -9.4065e-01,  6.6098e-01,  2.0731e+00,  1.1771e+00],\n",
              "         [-3.5521e-01, -3.3260e-01,  2.9529e-01,  6.3992e-02,  1.2864e+00],\n",
              "         [-3.4173e-02,  2.1522e-03,  1.4472e+00,  3.3250e-02,  1.4745e+00],\n",
              "         [-6.6555e-01, -1.1727e+00,  2.1216e+00,  8.5909e-01, -4.9705e-01]],\n",
              "\n",
              "        [[-8.7448e-01, -4.9128e-02, -4.7678e-02, -8.9461e-01,  6.3056e-01],\n",
              "         [-6.6279e-01, -7.4088e-01,  1.0552e+00, -4.2764e-01, -4.9488e-01],\n",
              "         [-1.0983e+00, -1.6140e+00,  8.3601e-01, -4.4530e-01, -1.2242e-01],\n",
              "         [-2.1556e-01, -4.0915e-01,  1.3771e-01,  8.0971e-01, -1.6369e+00]]])"
            ]
          },
          "metadata": {},
          "execution_count": 4
        }
      ]
    },
    {
      "cell_type": "code",
      "execution_count": 5,
      "metadata": {
        "colab": {
          "base_uri": "https://localhost:8080/"
        },
        "id": "oSbOU08_LfJe",
        "outputId": "92296c90-fc9f-4992-a159-d05d1e5ceb6d"
      },
      "outputs": [
        {
          "output_type": "execute_result",
          "data": {
            "text/plain": [
              "torch.Size([3, 4, 5])"
            ]
          },
          "metadata": {},
          "execution_count": 5
        }
      ],
      "source": [
        "# Выведите его форму (shape)\n",
        "float_tensor.shape"
      ]
    },
    {
      "cell_type": "code",
      "execution_count": 6,
      "metadata": {
        "colab": {
          "base_uri": "https://localhost:8080/"
        },
        "id": "I3ISnYy_LfJf",
        "outputId": "f2b2efb5-e702-448f-9c24-bcad5fe12c9b"
      },
      "outputs": [
        {
          "output_type": "execute_result",
          "data": {
            "text/plain": [
              "torch.Size([6, 10])"
            ]
          },
          "metadata": {},
          "execution_count": 6
        }
      ],
      "source": [
        "# Приведите его к форме 6 X 10\n",
        "float_tensor = float_tensor.reshape(6, 10)\n",
        "float_tensor.size()"
      ]
    },
    {
      "cell_type": "code",
      "execution_count": 11,
      "metadata": {
        "colab": {
          "base_uri": "https://localhost:8080/"
        },
        "id": "byjPm5MpLfJg",
        "outputId": "b3d3db95-66fb-4840-a062-9882c00e550e"
      },
      "outputs": [
        {
          "output_type": "execute_result",
          "data": {
            "text/plain": [
              "tensor([0, 0, 0, 0, 0, 1, 1, 0, 0, 0], dtype=torch.int32)"
            ]
          },
          "metadata": {},
          "execution_count": 11
        }
      ],
      "source": [
        "#  Создайте случайный IntTensor размера 10\n",
        "int_tensor = torch.randn(10).int()\n",
        "int_tensor"
      ]
    },
    {
      "cell_type": "code",
      "source": [
        "float_tensor * int_tensor # оба операнда имеют разные размеры, поэтому их невозможно поэлементно никак перемножить"
      ],
      "metadata": {
        "colab": {
          "base_uri": "https://localhost:8080/"
        },
        "id": "Or9mQuo2Q2OC",
        "outputId": "66559a03-1e95-4009-9eda-c52d582d451a"
      },
      "execution_count": 12,
      "outputs": [
        {
          "output_type": "execute_result",
          "data": {
            "text/plain": [
              "tensor([[ 0.0000, -0.0000,  0.0000,  0.0000,  0.0000,  0.1845, -0.8830, -0.0000,\n",
              "         -0.0000, -0.0000],\n",
              "        [ 0.0000, -0.0000, -0.0000,  0.0000,  0.0000,  0.0333,  2.0142, -0.0000,\n",
              "         -0.0000,  0.0000],\n",
              "        [-0.0000, -0.0000,  0.0000,  0.0000,  0.0000, -0.3552, -0.3326,  0.0000,\n",
              "          0.0000,  0.0000],\n",
              "        [-0.0000,  0.0000,  0.0000,  0.0000,  0.0000, -0.6656, -1.1727,  0.0000,\n",
              "          0.0000, -0.0000],\n",
              "        [-0.0000, -0.0000, -0.0000, -0.0000,  0.0000, -0.6628, -0.7409,  0.0000,\n",
              "         -0.0000, -0.0000],\n",
              "        [-0.0000, -0.0000,  0.0000, -0.0000, -0.0000, -0.2156, -0.4091,  0.0000,\n",
              "          0.0000, -0.0000]])"
            ]
          },
          "metadata": {},
          "execution_count": 12
        }
      ]
    },
    {
      "cell_type": "code",
      "execution_count": 13,
      "metadata": {
        "colab": {
          "base_uri": "https://localhost:8080/"
        },
        "id": "ss0xWfvvLfJh",
        "outputId": "97048531-b5b9-4900-aa22-034bbc60d07d"
      },
      "outputs": [
        {
          "output_type": "execute_result",
          "data": {
            "text/plain": [
              "torch.Size([6, 6])"
            ]
          },
          "metadata": {},
          "execution_count": 13
        }
      ],
      "source": [
        "# Умножьте тензор матрично на себя, чтобы результат был размерности 6x6\n",
        "\n",
        "A = float_tensor.mm(float_tensor.T)\n",
        "A.size()"
      ]
    },
    {
      "cell_type": "code",
      "execution_count": 19,
      "metadata": {
        "colab": {
          "base_uri": "https://localhost:8080/"
        },
        "id": "E0xfdJ71LfJi",
        "outputId": "c5cc44ce-035b-47b9-9f52-7b7c3d736080"
      },
      "outputs": [
        {
          "output_type": "execute_result",
          "data": {
            "text/plain": [
              "(tensor([3.]), tensor([1.]), tensor([-75.]))"
            ]
          },
          "metadata": {},
          "execution_count": 19
        }
      ],
      "source": [
        "# Посчитайте производную функции y = x**3 + z - 75t в точке (1, 0.5, 2)\n",
        "x = torch.tensor([1.0], requires_grad=True)\n",
        "z = torch.tensor([0.5], requires_grad=True)\n",
        "t = torch.tensor([2.0], requires_grad=True)\n",
        "\n",
        "y.backward()\n",
        "x.grad, z.grad, t.grad"
      ]
    },
    {
      "cell_type": "code",
      "execution_count": 20,
      "metadata": {
        "id": "FebRmhwqLfJi"
      },
      "outputs": [],
      "source": [
        "# Создайте единичный тензор размера 5x6\n",
        "\n",
        "a_tensor = torch.randn(5, 6)"
      ]
    },
    {
      "cell_type": "code",
      "source": [
        "print('w:', linear.weight)\n",
        "print('b:', linear.bias)"
      ],
      "metadata": {
        "colab": {
          "base_uri": "https://localhost:8080/"
        },
        "id": "VFLbDN8SWNq6",
        "outputId": "91d4cec0-3e7a-40d4-9d6c-bfd29dc5bcf9"
      },
      "execution_count": 29,
      "outputs": [
        {
          "output_type": "stream",
          "name": "stdout",
          "text": [
            "w: Parameter containing:\n",
            "tensor([[ 0.1969,  0.4566],\n",
            "        [-0.3301,  0.1606]], requires_grad=True)\n",
            "b: Parameter containing:\n",
            "tensor([-0.3316, -0.6003], requires_grad=True)\n"
          ]
        }
      ]
    },
    {
      "cell_type": "code",
      "execution_count": 21,
      "metadata": {
        "colab": {
          "base_uri": "https://localhost:8080/"
        },
        "id": "41iDaYafLfJi",
        "outputId": "cde230b9-2dab-4ff9-d934-a38ce25bc339"
      },
      "outputs": [
        {
          "output_type": "execute_result",
          "data": {
            "text/plain": [
              "array([[ 0.26505798, -0.52714837,  0.51125807,  0.538932  , -0.18151481,\n",
              "        -0.28546146],\n",
              "       [-0.6936106 ,  0.9071116 , -1.4272387 ,  2.0002835 ,  1.7845782 ,\n",
              "        -0.2633531 ],\n",
              "       [ 0.27946874,  1.021883  ,  0.12097345,  0.9489974 ,  0.2229469 ,\n",
              "        -0.499397  ],\n",
              "       [-0.18166383, -0.04163698,  1.0309905 ,  0.5523192 , -0.6217929 ,\n",
              "        -1.0757676 ],\n",
              "       [-1.0505118 ,  0.02721093,  0.9409388 , -0.30473244, -0.36780533,\n",
              "         0.60064083]], dtype=float32)"
            ]
          },
          "metadata": {},
          "execution_count": 21
        }
      ],
      "source": [
        "# Переведите его в формат numpy\n",
        "a_tensor.numpy()"
      ]
    }
  ],
  "metadata": {
    "kernelspec": {
      "display_name": "Python 3",
      "language": "python",
      "name": "python3"
    },
    "language_info": {
      "codemirror_mode": {
        "name": "ipython",
        "version": 3
      },
      "file_extension": ".py",
      "mimetype": "text/x-python",
      "name": "python",
      "nbconvert_exporter": "python",
      "pygments_lexer": "ipython3",
      "version": "3.7.4"
    },
    "colab": {
      "provenance": []
    }
  },
  "nbformat": 4,
  "nbformat_minor": 0
}