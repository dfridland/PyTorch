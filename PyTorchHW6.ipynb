{
  "nbformat": 4,
  "nbformat_minor": 0,
  "metadata": {
    "colab": {
      "provenance": [],
      "authorship_tag": "ABX9TyOxLMGiUuLWS+iSx27aUGzP",
      "include_colab_link": true
    },
    "kernelspec": {
      "name": "python3",
      "display_name": "Python 3"
    },
    "language_info": {
      "name": "python"
    }
  },
  "cells": [
    {
      "cell_type": "markdown",
      "metadata": {
        "id": "view-in-github",
        "colab_type": "text"
      },
      "source": [
        "<a href=\"https://colab.research.google.com/github/dfridland/PyTorch/blob/HW6/PyTorchHW6.ipynb\" target=\"_parent\"><img src=\"https://colab.research.google.com/assets/colab-badge.svg\" alt=\"Open In Colab\"/></a>"
      ]
    },
    {
      "cell_type": "code",
      "execution_count": 1,
      "metadata": {
        "colab": {
          "base_uri": "https://localhost:8080/"
        },
        "id": "E12Ghh_16Vu3",
        "outputId": "e232aa11-41e7-467a-d197-92867b364c46"
      },
      "outputs": [
        {
          "output_type": "stream",
          "name": "stdout",
          "text": [
            "ls: cannot access 'kaggle.json': No such file or directory\n"
          ]
        }
      ],
      "source": [
        "!ls -lha kaggle.json"
      ]
    },
    {
      "cell_type": "code",
      "source": [
        "!pip install -q kaggle"
      ],
      "metadata": {
        "id": "qYULDTYk6fSe"
      },
      "execution_count": 2,
      "outputs": []
    },
    {
      "cell_type": "code",
      "source": [
        " from google.colab import files"
      ],
      "metadata": {
        "id": "JQ8slS_Q6y0W"
      },
      "execution_count": 3,
      "outputs": []
    },
    {
      "cell_type": "code",
      "source": [
        "files.upload()"
      ],
      "metadata": {
        "colab": {
          "base_uri": "https://localhost:8080/",
          "height": 108
        },
        "id": "IlzTGlWP6t2f",
        "outputId": "ece16121-faff-468f-c986-d1b1e07b6db0"
      },
      "execution_count": 4,
      "outputs": [
        {
          "output_type": "display_data",
          "data": {
            "text/plain": [
              "<IPython.core.display.HTML object>"
            ],
            "text/html": [
              "\n",
              "     <input type=\"file\" id=\"files-c42e0dfb-9ce6-404f-b9c5-8d0222d35c08\" name=\"files[]\" multiple disabled\n",
              "        style=\"border:none\" />\n",
              "     <output id=\"result-c42e0dfb-9ce6-404f-b9c5-8d0222d35c08\">\n",
              "      Upload widget is only available when the cell has been executed in the\n",
              "      current browser session. Please rerun this cell to enable.\n",
              "      </output>\n",
              "      <script>// Copyright 2017 Google LLC\n",
              "//\n",
              "// Licensed under the Apache License, Version 2.0 (the \"License\");\n",
              "// you may not use this file except in compliance with the License.\n",
              "// You may obtain a copy of the License at\n",
              "//\n",
              "//      http://www.apache.org/licenses/LICENSE-2.0\n",
              "//\n",
              "// Unless required by applicable law or agreed to in writing, software\n",
              "// distributed under the License is distributed on an \"AS IS\" BASIS,\n",
              "// WITHOUT WARRANTIES OR CONDITIONS OF ANY KIND, either express or implied.\n",
              "// See the License for the specific language governing permissions and\n",
              "// limitations under the License.\n",
              "\n",
              "/**\n",
              " * @fileoverview Helpers for google.colab Python module.\n",
              " */\n",
              "(function(scope) {\n",
              "function span(text, styleAttributes = {}) {\n",
              "  const element = document.createElement('span');\n",
              "  element.textContent = text;\n",
              "  for (const key of Object.keys(styleAttributes)) {\n",
              "    element.style[key] = styleAttributes[key];\n",
              "  }\n",
              "  return element;\n",
              "}\n",
              "\n",
              "// Max number of bytes which will be uploaded at a time.\n",
              "const MAX_PAYLOAD_SIZE = 100 * 1024;\n",
              "\n",
              "function _uploadFiles(inputId, outputId) {\n",
              "  const steps = uploadFilesStep(inputId, outputId);\n",
              "  const outputElement = document.getElementById(outputId);\n",
              "  // Cache steps on the outputElement to make it available for the next call\n",
              "  // to uploadFilesContinue from Python.\n",
              "  outputElement.steps = steps;\n",
              "\n",
              "  return _uploadFilesContinue(outputId);\n",
              "}\n",
              "\n",
              "// This is roughly an async generator (not supported in the browser yet),\n",
              "// where there are multiple asynchronous steps and the Python side is going\n",
              "// to poll for completion of each step.\n",
              "// This uses a Promise to block the python side on completion of each step,\n",
              "// then passes the result of the previous step as the input to the next step.\n",
              "function _uploadFilesContinue(outputId) {\n",
              "  const outputElement = document.getElementById(outputId);\n",
              "  const steps = outputElement.steps;\n",
              "\n",
              "  const next = steps.next(outputElement.lastPromiseValue);\n",
              "  return Promise.resolve(next.value.promise).then((value) => {\n",
              "    // Cache the last promise value to make it available to the next\n",
              "    // step of the generator.\n",
              "    outputElement.lastPromiseValue = value;\n",
              "    return next.value.response;\n",
              "  });\n",
              "}\n",
              "\n",
              "/**\n",
              " * Generator function which is called between each async step of the upload\n",
              " * process.\n",
              " * @param {string} inputId Element ID of the input file picker element.\n",
              " * @param {string} outputId Element ID of the output display.\n",
              " * @return {!Iterable<!Object>} Iterable of next steps.\n",
              " */\n",
              "function* uploadFilesStep(inputId, outputId) {\n",
              "  const inputElement = document.getElementById(inputId);\n",
              "  inputElement.disabled = false;\n",
              "\n",
              "  const outputElement = document.getElementById(outputId);\n",
              "  outputElement.innerHTML = '';\n",
              "\n",
              "  const pickedPromise = new Promise((resolve) => {\n",
              "    inputElement.addEventListener('change', (e) => {\n",
              "      resolve(e.target.files);\n",
              "    });\n",
              "  });\n",
              "\n",
              "  const cancel = document.createElement('button');\n",
              "  inputElement.parentElement.appendChild(cancel);\n",
              "  cancel.textContent = 'Cancel upload';\n",
              "  const cancelPromise = new Promise((resolve) => {\n",
              "    cancel.onclick = () => {\n",
              "      resolve(null);\n",
              "    };\n",
              "  });\n",
              "\n",
              "  // Wait for the user to pick the files.\n",
              "  const files = yield {\n",
              "    promise: Promise.race([pickedPromise, cancelPromise]),\n",
              "    response: {\n",
              "      action: 'starting',\n",
              "    }\n",
              "  };\n",
              "\n",
              "  cancel.remove();\n",
              "\n",
              "  // Disable the input element since further picks are not allowed.\n",
              "  inputElement.disabled = true;\n",
              "\n",
              "  if (!files) {\n",
              "    return {\n",
              "      response: {\n",
              "        action: 'complete',\n",
              "      }\n",
              "    };\n",
              "  }\n",
              "\n",
              "  for (const file of files) {\n",
              "    const li = document.createElement('li');\n",
              "    li.append(span(file.name, {fontWeight: 'bold'}));\n",
              "    li.append(span(\n",
              "        `(${file.type || 'n/a'}) - ${file.size} bytes, ` +\n",
              "        `last modified: ${\n",
              "            file.lastModifiedDate ? file.lastModifiedDate.toLocaleDateString() :\n",
              "                                    'n/a'} - `));\n",
              "    const percent = span('0% done');\n",
              "    li.appendChild(percent);\n",
              "\n",
              "    outputElement.appendChild(li);\n",
              "\n",
              "    const fileDataPromise = new Promise((resolve) => {\n",
              "      const reader = new FileReader();\n",
              "      reader.onload = (e) => {\n",
              "        resolve(e.target.result);\n",
              "      };\n",
              "      reader.readAsArrayBuffer(file);\n",
              "    });\n",
              "    // Wait for the data to be ready.\n",
              "    let fileData = yield {\n",
              "      promise: fileDataPromise,\n",
              "      response: {\n",
              "        action: 'continue',\n",
              "      }\n",
              "    };\n",
              "\n",
              "    // Use a chunked sending to avoid message size limits. See b/62115660.\n",
              "    let position = 0;\n",
              "    do {\n",
              "      const length = Math.min(fileData.byteLength - position, MAX_PAYLOAD_SIZE);\n",
              "      const chunk = new Uint8Array(fileData, position, length);\n",
              "      position += length;\n",
              "\n",
              "      const base64 = btoa(String.fromCharCode.apply(null, chunk));\n",
              "      yield {\n",
              "        response: {\n",
              "          action: 'append',\n",
              "          file: file.name,\n",
              "          data: base64,\n",
              "        },\n",
              "      };\n",
              "\n",
              "      let percentDone = fileData.byteLength === 0 ?\n",
              "          100 :\n",
              "          Math.round((position / fileData.byteLength) * 100);\n",
              "      percent.textContent = `${percentDone}% done`;\n",
              "\n",
              "    } while (position < fileData.byteLength);\n",
              "  }\n",
              "\n",
              "  // All done.\n",
              "  yield {\n",
              "    response: {\n",
              "      action: 'complete',\n",
              "    }\n",
              "  };\n",
              "}\n",
              "\n",
              "scope.google = scope.google || {};\n",
              "scope.google.colab = scope.google.colab || {};\n",
              "scope.google.colab._files = {\n",
              "  _uploadFiles,\n",
              "  _uploadFilesContinue,\n",
              "};\n",
              "})(self);\n",
              "</script> "
            ]
          },
          "metadata": {}
        },
        {
          "output_type": "stream",
          "name": "stdout",
          "text": [
            "Saving kaggle.json to kaggle.json\n"
          ]
        },
        {
          "output_type": "execute_result",
          "data": {
            "text/plain": [
              "{'kaggle.json': b'{\"username\":\"dianafridlyand\",\"key\":\"eb50b0058efb905468066fe811db57cd\"}'}"
            ]
          },
          "metadata": {},
          "execution_count": 4
        }
      ]
    },
    {
      "cell_type": "code",
      "source": [
        "!mkdir -p ~/.kaggle"
      ],
      "metadata": {
        "id": "XP4sF-3C6ids"
      },
      "execution_count": 5,
      "outputs": []
    },
    {
      "cell_type": "code",
      "source": [
        "! cp kaggle.json ~/.kaggle/"
      ],
      "metadata": {
        "id": "FX2DOkmh63RK"
      },
      "execution_count": 6,
      "outputs": []
    },
    {
      "cell_type": "code",
      "source": [
        " ! chmod 600 ~/.kaggle/kaggle.json"
      ],
      "metadata": {
        "id": "p_8QmaRl8HYP"
      },
      "execution_count": 7,
      "outputs": []
    },
    {
      "cell_type": "code",
      "source": [
        "! kaggle datasets list"
      ],
      "metadata": {
        "id": "tZfv5mlk66EX"
      },
      "execution_count": null,
      "outputs": []
    },
    {
      "cell_type": "code",
      "source": [
        "!kaggle datasets download -d arkhoshghalb/twitter-sentiment-analysis-hatred-speech"
      ],
      "metadata": {
        "colab": {
          "base_uri": "https://localhost:8080/"
        },
        "id": "rN6LUi2C7Bqn",
        "outputId": "1526828d-a26f-4a4a-a08d-021b1ba4235c"
      },
      "execution_count": 9,
      "outputs": [
        {
          "output_type": "stream",
          "name": "stdout",
          "text": [
            "Downloading twitter-sentiment-analysis-hatred-speech.zip to /content\n",
            " 53% 1.00M/1.89M [00:00<00:00, 1.99MB/s]\n",
            "100% 1.89M/1.89M [00:00<00:00, 3.25MB/s]\n"
          ]
        }
      ]
    },
    {
      "cell_type": "code",
      "source": [
        "!pip install stop-words pymorphy2\n"
      ],
      "metadata": {
        "colab": {
          "base_uri": "https://localhost:8080/"
        },
        "id": "Rizpy7WU82_8",
        "outputId": "39e7ccce-722e-4395-9844-a72c1f04057a"
      },
      "execution_count": 30,
      "outputs": [
        {
          "output_type": "stream",
          "name": "stdout",
          "text": [
            "Looking in indexes: https://pypi.org/simple, https://us-python.pkg.dev/colab-wheels/public/simple/\n",
            "Collecting stop-words\n",
            "  Downloading stop-words-2018.7.23.tar.gz (31 kB)\n",
            "  Preparing metadata (setup.py) ... \u001b[?25l\u001b[?25hdone\n",
            "Collecting pymorphy2\n",
            "  Downloading pymorphy2-0.9.1-py3-none-any.whl (55 kB)\n",
            "\u001b[2K     \u001b[90m━━━━━━━━━━━━━━━━━━━━━━━━━━━━━━━━━━━━━━━━\u001b[0m \u001b[32m55.5/55.5 kB\u001b[0m \u001b[31m4.3 MB/s\u001b[0m eta \u001b[36m0:00:00\u001b[0m\n",
            "\u001b[?25hCollecting pymorphy2-dicts-ru<3.0,>=2.4\n",
            "  Downloading pymorphy2_dicts_ru-2.4.417127.4579844-py2.py3-none-any.whl (8.2 MB)\n",
            "\u001b[2K     \u001b[90m━━━━━━━━━━━━━━━━━━━━━━━━━━━━━━━━━━━━━━━━\u001b[0m \u001b[32m8.2/8.2 MB\u001b[0m \u001b[31m51.2 MB/s\u001b[0m eta \u001b[36m0:00:00\u001b[0m\n",
            "\u001b[?25hCollecting docopt>=0.6\n",
            "  Downloading docopt-0.6.2.tar.gz (25 kB)\n",
            "  Preparing metadata (setup.py) ... \u001b[?25l\u001b[?25hdone\n",
            "Collecting dawg-python>=0.7.1\n",
            "  Downloading DAWG_Python-0.7.2-py2.py3-none-any.whl (11 kB)\n",
            "Building wheels for collected packages: stop-words, docopt\n",
            "  Building wheel for stop-words (setup.py) ... \u001b[?25l\u001b[?25hdone\n",
            "  Created wheel for stop-words: filename=stop_words-2018.7.23-py3-none-any.whl size=32910 sha256=51c989f4e71a9f61479881e521a1f91e4eb9bf3b6e91512224623527161b1003\n",
            "  Stored in directory: /root/.cache/pip/wheels/da/d8/66/395317506a23a9d1d7de433ad6a7d9e6e16aab48cf028a0f60\n",
            "  Building wheel for docopt (setup.py) ... \u001b[?25l\u001b[?25hdone\n",
            "  Created wheel for docopt: filename=docopt-0.6.2-py2.py3-none-any.whl size=13721 sha256=6ce3f403632f563a1042e832094b6991ae94049f1d5540c1e3836af714203272\n",
            "  Stored in directory: /root/.cache/pip/wheels/70/4a/46/1309fc853b8d395e60bafaf1b6df7845bdd82c95fd59dd8d2b\n",
            "Successfully built stop-words docopt\n",
            "Installing collected packages: stop-words, pymorphy2-dicts-ru, docopt, dawg-python, pymorphy2\n",
            "Successfully installed dawg-python-0.7.2 docopt-0.6.2 pymorphy2-0.9.1 pymorphy2-dicts-ru-2.4.417127.4579844 stop-words-2018.7.23\n"
          ]
        }
      ]
    },
    {
      "cell_type": "code",
      "source": [
        "from pathlib import Path\n",
        "\n",
        "import numpy as np\n",
        "import pandas as pd\n",
        "\n",
        "from sklearn.model_selection import train_test_split\n",
        "import matplotlib.pyplot as plt\n",
        "\n",
        "import cv2\n",
        "\n",
        "import torch\n",
        "from torch import nn, optim\n",
        "from torch.utils.data import Dataset, DataLoader\n",
        "from PIL import Image\n",
        "from torch.nn import functional as F\n",
        "\n",
        "from string import punctuation\n",
        "#from sklearn.feature_extraction.text import ENGLISH_STOP_WORDS as sklearn_stop_words\n",
        "\n",
        "from stop_words import get_stop_words\n",
        "from pymorphy2 import MorphAnalyzer\n",
        "import re\n",
        "\n",
        "from sklearn.model_selection import train_test_split\n",
        "\n",
        "from tqdm import tqdm \n",
        "import nltk\n",
        "from nltk.tokenize import word_tokenize\n",
        "from nltk.probability import FreqDist"
      ],
      "metadata": {
        "id": "bJZuJdpd83QU"
      },
      "execution_count": 31,
      "outputs": []
    },
    {
      "cell_type": "code",
      "source": [
        "device = torch.device('cuda' if torch.cuda.is_available() else 'cpu')\n",
        "device"
      ],
      "metadata": {
        "colab": {
          "base_uri": "https://localhost:8080/"
        },
        "id": "BeeYEj8e8GXG",
        "outputId": "205e7cca-b335-4a86-a19c-4bd53de347d1"
      },
      "execution_count": 32,
      "outputs": [
        {
          "output_type": "execute_result",
          "data": {
            "text/plain": [
              "device(type='cpu')"
            ]
          },
          "metadata": {},
          "execution_count": 32
        }
      ]
    },
    {
      "cell_type": "code",
      "source": [
        "max_words = 2000\n",
        "max_len = 15\n",
        "num_classes = 1\n",
        "\n",
        "# Training\n",
        "epochs = 5\n",
        "batch_size = 512\n",
        "print_batch_n = 100"
      ],
      "metadata": {
        "id": "fRBNmzFbAaJO"
      },
      "execution_count": 106,
      "outputs": []
    },
    {
      "cell_type": "code",
      "source": [
        "!unzip /content/twitter-sentiment-analysis-hatred-speech.zip -d Twittdataset\n",
        "     "
      ],
      "metadata": {
        "colab": {
          "base_uri": "https://localhost:8080/"
        },
        "id": "VVAMlfWu82Ur",
        "outputId": "c02c626f-c8f8-4cbb-a2f3-5e325ef5bf70"
      },
      "execution_count": 12,
      "outputs": [
        {
          "output_type": "stream",
          "name": "stdout",
          "text": [
            "Archive:  /content/twitter-sentiment-analysis-hatred-speech.zip\n",
            "  inflating: Twittdataset/test.csv   \n",
            "  inflating: Twittdataset/train.csv  \n"
          ]
        }
      ]
    },
    {
      "cell_type": "code",
      "source": [
        "import pandas as pandas\n",
        "df_train = pd.read_csv('./Twittdataset/train.csv')\n",
        "df_test = pd.read_csv('./Twittdataset/test.csv')"
      ],
      "metadata": {
        "id": "IiB9slw-8Gcm"
      },
      "execution_count": 56,
      "outputs": []
    },
    {
      "cell_type": "code",
      "source": [
        "df_train.head()"
      ],
      "metadata": {
        "colab": {
          "base_uri": "https://localhost:8080/",
          "height": 221
        },
        "id": "bJo8nrSX4j8W",
        "outputId": "47b7408e-0872-45ad-8fb9-d036c1ddddb7"
      },
      "execution_count": 107,
      "outputs": [
        {
          "output_type": "execute_result",
          "data": {
            "text/plain": [
              "          id  label                                              tweet\n",
              "19010  19011      0                                            weekend\n",
              "5474    5475      0  world really going bonkers really bad atm shoo...\n",
              "6557    6558      0                                 made night hahahha\n",
              "3617    3618      0  shes looking like really good person stupid am...\n",
              "5099    5100      0  must first year ever xbox playstation killed e..."
            ],
            "text/html": [
              "\n",
              "  <div id=\"df-0e28f2e9-b32e-4111-ac1e-ace622663845\">\n",
              "    <div class=\"colab-df-container\">\n",
              "      <div>\n",
              "<style scoped>\n",
              "    .dataframe tbody tr th:only-of-type {\n",
              "        vertical-align: middle;\n",
              "    }\n",
              "\n",
              "    .dataframe tbody tr th {\n",
              "        vertical-align: top;\n",
              "    }\n",
              "\n",
              "    .dataframe thead th {\n",
              "        text-align: right;\n",
              "    }\n",
              "</style>\n",
              "<table border=\"1\" class=\"dataframe\">\n",
              "  <thead>\n",
              "    <tr style=\"text-align: right;\">\n",
              "      <th></th>\n",
              "      <th>id</th>\n",
              "      <th>label</th>\n",
              "      <th>tweet</th>\n",
              "    </tr>\n",
              "  </thead>\n",
              "  <tbody>\n",
              "    <tr>\n",
              "      <th>19010</th>\n",
              "      <td>19011</td>\n",
              "      <td>0</td>\n",
              "      <td>weekend</td>\n",
              "    </tr>\n",
              "    <tr>\n",
              "      <th>5474</th>\n",
              "      <td>5475</td>\n",
              "      <td>0</td>\n",
              "      <td>world really going bonkers really bad atm shoo...</td>\n",
              "    </tr>\n",
              "    <tr>\n",
              "      <th>6557</th>\n",
              "      <td>6558</td>\n",
              "      <td>0</td>\n",
              "      <td>made night hahahha</td>\n",
              "    </tr>\n",
              "    <tr>\n",
              "      <th>3617</th>\n",
              "      <td>3618</td>\n",
              "      <td>0</td>\n",
              "      <td>shes looking like really good person stupid am...</td>\n",
              "    </tr>\n",
              "    <tr>\n",
              "      <th>5099</th>\n",
              "      <td>5100</td>\n",
              "      <td>0</td>\n",
              "      <td>must first year ever xbox playstation killed e...</td>\n",
              "    </tr>\n",
              "  </tbody>\n",
              "</table>\n",
              "</div>\n",
              "      <button class=\"colab-df-convert\" onclick=\"convertToInteractive('df-0e28f2e9-b32e-4111-ac1e-ace622663845')\"\n",
              "              title=\"Convert this dataframe to an interactive table.\"\n",
              "              style=\"display:none;\">\n",
              "        \n",
              "  <svg xmlns=\"http://www.w3.org/2000/svg\" height=\"24px\"viewBox=\"0 0 24 24\"\n",
              "       width=\"24px\">\n",
              "    <path d=\"M0 0h24v24H0V0z\" fill=\"none\"/>\n",
              "    <path d=\"M18.56 5.44l.94 2.06.94-2.06 2.06-.94-2.06-.94-.94-2.06-.94 2.06-2.06.94zm-11 1L8.5 8.5l.94-2.06 2.06-.94-2.06-.94L8.5 2.5l-.94 2.06-2.06.94zm10 10l.94 2.06.94-2.06 2.06-.94-2.06-.94-.94-2.06-.94 2.06-2.06.94z\"/><path d=\"M17.41 7.96l-1.37-1.37c-.4-.4-.92-.59-1.43-.59-.52 0-1.04.2-1.43.59L10.3 9.45l-7.72 7.72c-.78.78-.78 2.05 0 2.83L4 21.41c.39.39.9.59 1.41.59.51 0 1.02-.2 1.41-.59l7.78-7.78 2.81-2.81c.8-.78.8-2.07 0-2.86zM5.41 20L4 18.59l7.72-7.72 1.47 1.35L5.41 20z\"/>\n",
              "  </svg>\n",
              "      </button>\n",
              "      \n",
              "  <style>\n",
              "    .colab-df-container {\n",
              "      display:flex;\n",
              "      flex-wrap:wrap;\n",
              "      gap: 12px;\n",
              "    }\n",
              "\n",
              "    .colab-df-convert {\n",
              "      background-color: #E8F0FE;\n",
              "      border: none;\n",
              "      border-radius: 50%;\n",
              "      cursor: pointer;\n",
              "      display: none;\n",
              "      fill: #1967D2;\n",
              "      height: 32px;\n",
              "      padding: 0 0 0 0;\n",
              "      width: 32px;\n",
              "    }\n",
              "\n",
              "    .colab-df-convert:hover {\n",
              "      background-color: #E2EBFA;\n",
              "      box-shadow: 0px 1px 2px rgba(60, 64, 67, 0.3), 0px 1px 3px 1px rgba(60, 64, 67, 0.15);\n",
              "      fill: #174EA6;\n",
              "    }\n",
              "\n",
              "    [theme=dark] .colab-df-convert {\n",
              "      background-color: #3B4455;\n",
              "      fill: #D2E3FC;\n",
              "    }\n",
              "\n",
              "    [theme=dark] .colab-df-convert:hover {\n",
              "      background-color: #434B5C;\n",
              "      box-shadow: 0px 1px 3px 1px rgba(0, 0, 0, 0.15);\n",
              "      filter: drop-shadow(0px 1px 2px rgba(0, 0, 0, 0.3));\n",
              "      fill: #FFFFFF;\n",
              "    }\n",
              "  </style>\n",
              "\n",
              "      <script>\n",
              "        const buttonEl =\n",
              "          document.querySelector('#df-0e28f2e9-b32e-4111-ac1e-ace622663845 button.colab-df-convert');\n",
              "        buttonEl.style.display =\n",
              "          google.colab.kernel.accessAllowed ? 'block' : 'none';\n",
              "\n",
              "        async function convertToInteractive(key) {\n",
              "          const element = document.querySelector('#df-0e28f2e9-b32e-4111-ac1e-ace622663845');\n",
              "          const dataTable =\n",
              "            await google.colab.kernel.invokeFunction('convertToInteractive',\n",
              "                                                     [key], {});\n",
              "          if (!dataTable) return;\n",
              "\n",
              "          const docLinkHtml = 'Like what you see? Visit the ' +\n",
              "            '<a target=\"_blank\" href=https://colab.research.google.com/notebooks/data_table.ipynb>data table notebook</a>'\n",
              "            + ' to learn more about interactive tables.';\n",
              "          element.innerHTML = '';\n",
              "          dataTable['output_type'] = 'display_data';\n",
              "          await google.colab.output.renderOutput(dataTable, element);\n",
              "          const docLink = document.createElement('div');\n",
              "          docLink.innerHTML = docLinkHtml;\n",
              "          element.appendChild(docLink);\n",
              "        }\n",
              "      </script>\n",
              "    </div>\n",
              "  </div>\n",
              "  "
            ]
          },
          "metadata": {},
          "execution_count": 107
        }
      ]
    },
    {
      "cell_type": "code",
      "source": [
        "df_train['label'].value_counts()"
      ],
      "metadata": {
        "colab": {
          "base_uri": "https://localhost:8080/"
        },
        "id": "XQB9Kide4mNI",
        "outputId": "f0e7b139-1d2e-4211-bc54-828d59c5e08f"
      },
      "execution_count": 108,
      "outputs": [
        {
          "output_type": "execute_result",
          "data": {
            "text/plain": [
              "0    22288\n",
              "1     1683\n",
              "Name: label, dtype: int64"
            ]
          },
          "metadata": {},
          "execution_count": 108
        }
      ]
    },
    {
      "cell_type": "code",
      "source": [
        "df_test.tail()"
      ],
      "metadata": {
        "colab": {
          "base_uri": "https://localhost:8080/",
          "height": 221
        },
        "id": "JKeboYT44v_h",
        "outputId": "199459ed-21f0-49e7-d416-be6f214fd485"
      },
      "execution_count": 109,
      "outputs": [
        {
          "output_type": "execute_result",
          "data": {
            "text/plain": [
              "          id                                              tweet\n",
              "17192  49155  thought factory leftright polarisation trump u...\n",
              "17193  49156  feeling like mermaid ð hairflip neverready ...\n",
              "17194  49157  hillary campaigned today ohioomg amp used word...\n",
              "17195  49158  happy work conference right mindset leads cult...\n",
              "17196  49159  song glad free download shoegaze newmusic newsong"
            ],
            "text/html": [
              "\n",
              "  <div id=\"df-3cf7b64e-2a45-4cdf-9820-dd52e1468047\">\n",
              "    <div class=\"colab-df-container\">\n",
              "      <div>\n",
              "<style scoped>\n",
              "    .dataframe tbody tr th:only-of-type {\n",
              "        vertical-align: middle;\n",
              "    }\n",
              "\n",
              "    .dataframe tbody tr th {\n",
              "        vertical-align: top;\n",
              "    }\n",
              "\n",
              "    .dataframe thead th {\n",
              "        text-align: right;\n",
              "    }\n",
              "</style>\n",
              "<table border=\"1\" class=\"dataframe\">\n",
              "  <thead>\n",
              "    <tr style=\"text-align: right;\">\n",
              "      <th></th>\n",
              "      <th>id</th>\n",
              "      <th>tweet</th>\n",
              "    </tr>\n",
              "  </thead>\n",
              "  <tbody>\n",
              "    <tr>\n",
              "      <th>17192</th>\n",
              "      <td>49155</td>\n",
              "      <td>thought factory leftright polarisation trump u...</td>\n",
              "    </tr>\n",
              "    <tr>\n",
              "      <th>17193</th>\n",
              "      <td>49156</td>\n",
              "      <td>feeling like mermaid ð hairflip neverready ...</td>\n",
              "    </tr>\n",
              "    <tr>\n",
              "      <th>17194</th>\n",
              "      <td>49157</td>\n",
              "      <td>hillary campaigned today ohioomg amp used word...</td>\n",
              "    </tr>\n",
              "    <tr>\n",
              "      <th>17195</th>\n",
              "      <td>49158</td>\n",
              "      <td>happy work conference right mindset leads cult...</td>\n",
              "    </tr>\n",
              "    <tr>\n",
              "      <th>17196</th>\n",
              "      <td>49159</td>\n",
              "      <td>song glad free download shoegaze newmusic newsong</td>\n",
              "    </tr>\n",
              "  </tbody>\n",
              "</table>\n",
              "</div>\n",
              "      <button class=\"colab-df-convert\" onclick=\"convertToInteractive('df-3cf7b64e-2a45-4cdf-9820-dd52e1468047')\"\n",
              "              title=\"Convert this dataframe to an interactive table.\"\n",
              "              style=\"display:none;\">\n",
              "        \n",
              "  <svg xmlns=\"http://www.w3.org/2000/svg\" height=\"24px\"viewBox=\"0 0 24 24\"\n",
              "       width=\"24px\">\n",
              "    <path d=\"M0 0h24v24H0V0z\" fill=\"none\"/>\n",
              "    <path d=\"M18.56 5.44l.94 2.06.94-2.06 2.06-.94-2.06-.94-.94-2.06-.94 2.06-2.06.94zm-11 1L8.5 8.5l.94-2.06 2.06-.94-2.06-.94L8.5 2.5l-.94 2.06-2.06.94zm10 10l.94 2.06.94-2.06 2.06-.94-2.06-.94-.94-2.06-.94 2.06-2.06.94z\"/><path d=\"M17.41 7.96l-1.37-1.37c-.4-.4-.92-.59-1.43-.59-.52 0-1.04.2-1.43.59L10.3 9.45l-7.72 7.72c-.78.78-.78 2.05 0 2.83L4 21.41c.39.39.9.59 1.41.59.51 0 1.02-.2 1.41-.59l7.78-7.78 2.81-2.81c.8-.78.8-2.07 0-2.86zM5.41 20L4 18.59l7.72-7.72 1.47 1.35L5.41 20z\"/>\n",
              "  </svg>\n",
              "      </button>\n",
              "      \n",
              "  <style>\n",
              "    .colab-df-container {\n",
              "      display:flex;\n",
              "      flex-wrap:wrap;\n",
              "      gap: 12px;\n",
              "    }\n",
              "\n",
              "    .colab-df-convert {\n",
              "      background-color: #E8F0FE;\n",
              "      border: none;\n",
              "      border-radius: 50%;\n",
              "      cursor: pointer;\n",
              "      display: none;\n",
              "      fill: #1967D2;\n",
              "      height: 32px;\n",
              "      padding: 0 0 0 0;\n",
              "      width: 32px;\n",
              "    }\n",
              "\n",
              "    .colab-df-convert:hover {\n",
              "      background-color: #E2EBFA;\n",
              "      box-shadow: 0px 1px 2px rgba(60, 64, 67, 0.3), 0px 1px 3px 1px rgba(60, 64, 67, 0.15);\n",
              "      fill: #174EA6;\n",
              "    }\n",
              "\n",
              "    [theme=dark] .colab-df-convert {\n",
              "      background-color: #3B4455;\n",
              "      fill: #D2E3FC;\n",
              "    }\n",
              "\n",
              "    [theme=dark] .colab-df-convert:hover {\n",
              "      background-color: #434B5C;\n",
              "      box-shadow: 0px 1px 3px 1px rgba(0, 0, 0, 0.15);\n",
              "      filter: drop-shadow(0px 1px 2px rgba(0, 0, 0, 0.3));\n",
              "      fill: #FFFFFF;\n",
              "    }\n",
              "  </style>\n",
              "\n",
              "      <script>\n",
              "        const buttonEl =\n",
              "          document.querySelector('#df-3cf7b64e-2a45-4cdf-9820-dd52e1468047 button.colab-df-convert');\n",
              "        buttonEl.style.display =\n",
              "          google.colab.kernel.accessAllowed ? 'block' : 'none';\n",
              "\n",
              "        async function convertToInteractive(key) {\n",
              "          const element = document.querySelector('#df-3cf7b64e-2a45-4cdf-9820-dd52e1468047');\n",
              "          const dataTable =\n",
              "            await google.colab.kernel.invokeFunction('convertToInteractive',\n",
              "                                                     [key], {});\n",
              "          if (!dataTable) return;\n",
              "\n",
              "          const docLinkHtml = 'Like what you see? Visit the ' +\n",
              "            '<a target=\"_blank\" href=https://colab.research.google.com/notebooks/data_table.ipynb>data table notebook</a>'\n",
              "            + ' to learn more about interactive tables.';\n",
              "          element.innerHTML = '';\n",
              "          dataTable['output_type'] = 'display_data';\n",
              "          await google.colab.output.renderOutput(dataTable, element);\n",
              "          const docLink = document.createElement('div');\n",
              "          docLink.innerHTML = docLinkHtml;\n",
              "          element.appendChild(docLink);\n",
              "        }\n",
              "      </script>\n",
              "    </div>\n",
              "  </div>\n",
              "  "
            ]
          },
          "metadata": {},
          "execution_count": 109
        }
      ]
    },
    {
      "cell_type": "code",
      "source": [
        "df_train, df_val = train_test_split(df_train, test_size=0.25, random_state=42)"
      ],
      "metadata": {
        "id": "NWUWpaLQ7p6z"
      },
      "execution_count": 110,
      "outputs": []
    },
    {
      "cell_type": "code",
      "source": [
        "df_train.shape, df_val.shape"
      ],
      "metadata": {
        "colab": {
          "base_uri": "https://localhost:8080/"
        },
        "id": "TAe0FCxx7tnr",
        "outputId": "33e03702-5f2b-4b35-9029-ecf56c08f656"
      },
      "execution_count": 111,
      "outputs": [
        {
          "output_type": "execute_result",
          "data": {
            "text/plain": [
              "((17978, 3), (5993, 3))"
            ]
          },
          "metadata": {},
          "execution_count": 111
        }
      ]
    },
    {
      "cell_type": "code",
      "source": [
        "#df_val['label'].value_counts()"
      ],
      "metadata": {
        "id": "_NazilLm40wN"
      },
      "execution_count": 112,
      "outputs": []
    },
    {
      "cell_type": "code",
      "source": [
        "sw = set(get_stop_words('en'))\n",
        "sw"
      ],
      "metadata": {
        "id": "SmbgP11e4-We"
      },
      "execution_count": null,
      "outputs": []
    },
    {
      "cell_type": "code",
      "source": [
        "puncts = set(punctuation)\n",
        "puncts"
      ],
      "metadata": {
        "id": "jt7nQI8F5FAb"
      },
      "execution_count": null,
      "outputs": []
    },
    {
      "cell_type": "code",
      "source": [
        "# morpher = MorphAnalyzer()\n",
        "# morpher.parse('cooked')[0].normal_form\n",
        "     "
      ],
      "metadata": {
        "id": "19WQjn_Q5Kdj"
      },
      "execution_count": 43,
      "outputs": []
    },
    {
      "cell_type": "code",
      "source": [
        "morpher = MorphAnalyzer()\n",
        "\n",
        "def preprocess_text(txt):\n",
        "  txt = str(txt)\n",
        "  txt = ''.join(c for c in txt if c not in puncts)\n",
        "  txt = txt.lower()\n",
        "  txt = re.sub(r\".?\\\\[\\w|\\d]*\", \"\", txt)\n",
        "  txt = [morpher.parse(word)[0].normal_form for word in txt.split() if word not in sw]\n",
        "  return ' '.join(txt)"
      ],
      "metadata": {
        "id": "W5SO92rC6V3s"
      },
      "execution_count": 115,
      "outputs": []
    },
    {
      "cell_type": "code",
      "source": [
        "df_train['tweet'].iloc[:5].values"
      ],
      "metadata": {
        "colab": {
          "base_uri": "https://localhost:8080/"
        },
        "id": "Fq815Abi6gF9",
        "outputId": "e65b1644-bfd5-4cb9-c673-57a656e2cb76"
      },
      "execution_count": 116,
      "outputs": [
        {
          "output_type": "execute_result",
          "data": {
            "text/plain": [
              "array(['interstellar really hits feels',\n",
              "       'words needed love peace respect',\n",
              "       'large general s gbp 990 get shop cool home fun',\n",
              "       'award winning chilli sauces ð\\x9f\\x98\\x8dð\\x9f\\x8f\\x86 celebrate chillisauceâ\\x80¦',\n",
              "       'mindsconsole best way avoid disappointment expect anything anyone motivation'],\n",
              "      dtype=object)"
            ]
          },
          "metadata": {},
          "execution_count": 116
        }
      ]
    },
    {
      "cell_type": "code",
      "source": [
        "df_train['tweet'].iloc[:5].apply(preprocess_text).values"
      ],
      "metadata": {
        "colab": {
          "base_uri": "https://localhost:8080/"
        },
        "id": "kwr3DFGU6lS6",
        "outputId": "d38baa1b-bc9f-4f41-813d-2fa64a3acbf6"
      },
      "execution_count": 117,
      "outputs": [
        {
          "output_type": "execute_result",
          "data": {
            "text/plain": [
              "array(['interstellar really hits feels',\n",
              "       'words needed love peace respect',\n",
              "       'large general s gbp 990 get shop cool home fun',\n",
              "       'award winning chilli sauces ð\\x9f\\x98\\x8dð\\x9f\\x8f\\x86 celebrate chillisauceâ\\x80¦',\n",
              "       'mindsconsole best way avoid disappointment expect anything anyone motivation'],\n",
              "      dtype=object)"
            ]
          },
          "metadata": {},
          "execution_count": 117
        }
      ]
    },
    {
      "cell_type": "code",
      "source": [
        "tqdm.pandas()"
      ],
      "metadata": {
        "id": "w7B1VLzS-Itb"
      },
      "execution_count": 118,
      "outputs": []
    },
    {
      "cell_type": "code",
      "source": [
        "df_train['tweet'] = df_train['tweet'].progress_apply(preprocess_text)\n",
        "\n",
        "df_val['tweet'] = df_val['tweet'].progress_apply(preprocess_text)\n",
        "\n",
        "df_test['tweet'] = df_test['tweet'].progress_apply(preprocess_text)"
      ],
      "metadata": {
        "colab": {
          "base_uri": "https://localhost:8080/"
        },
        "id": "qpSTJKmX_Jpu",
        "outputId": "7625a39b-66f9-43dc-d5c3-c57a20d16386"
      },
      "execution_count": 119,
      "outputs": [
        {
          "output_type": "stream",
          "name": "stderr",
          "text": [
            "100%|██████████| 17978/17978 [00:05<00:00, 3218.27it/s]\n",
            "100%|██████████| 5993/5993 [00:01<00:00, 4748.73it/s]\n",
            "100%|██████████| 17197/17197 [00:03<00:00, 4831.91it/s]\n"
          ]
        }
      ]
    },
    {
      "cell_type": "code",
      "source": [
        "train_corpus = ''.join(df_train['tweet'])\n",
        "train_corpus = train_corpus.lower()"
      ],
      "metadata": {
        "id": "_fRkYVq__RBc"
      },
      "execution_count": 120,
      "outputs": []
    },
    {
      "cell_type": "code",
      "source": [
        "nltk.download('punkt')\n",
        "tokens = word_tokenize(train_corpus)\n",
        "tokens[:5]"
      ],
      "metadata": {
        "colab": {
          "base_uri": "https://localhost:8080/"
        },
        "id": "5lriOP42_Vc7",
        "outputId": "1c5cc040-b30f-4758-d319-b3b599c61535"
      },
      "execution_count": 121,
      "outputs": [
        {
          "output_type": "stream",
          "name": "stderr",
          "text": [
            "[nltk_data] Downloading package punkt to /root/nltk_data...\n",
            "[nltk_data]   Package punkt is already up-to-date!\n"
          ]
        },
        {
          "output_type": "execute_result",
          "data": {
            "text/plain": [
              "['interstellar', 'really', 'hits', 'feelswords', 'needed']"
            ]
          },
          "metadata": {},
          "execution_count": 121
        }
      ]
    },
    {
      "cell_type": "code",
      "source": [
        "token_filtered = [word for word in tokens if word.isalnum()]"
      ],
      "metadata": {
        "id": "6tc2FJ0U_dA8"
      },
      "execution_count": 122,
      "outputs": []
    },
    {
      "cell_type": "code",
      "source": [
        "dist = FreqDist(token_filtered)\n",
        "token_filtered_top = [pair[0] for pair in  dist.most_common(max_words-1)]\n",
        "len(token_filtered_top)"
      ],
      "metadata": {
        "colab": {
          "base_uri": "https://localhost:8080/"
        },
        "id": "j_ZH1i3P_dIv",
        "outputId": "a8219fe8-09ab-4a41-a169-fb170534ddec"
      },
      "execution_count": 123,
      "outputs": [
        {
          "output_type": "execute_result",
          "data": {
            "text/plain": [
              "1999"
            ]
          },
          "metadata": {},
          "execution_count": 123
        }
      ]
    },
    {
      "cell_type": "code",
      "source": [
        "token_filtered_top[:10]"
      ],
      "metadata": {
        "colab": {
          "base_uri": "https://localhost:8080/"
        },
        "id": "oal92k2VAg-W",
        "outputId": "acbb441d-26ac-4636-df1e-4e2d98105527"
      },
      "execution_count": 124,
      "outputs": [
        {
          "output_type": "execute_result",
          "data": {
            "text/plain": [
              "['user', 'love', 'day', 'amp', 'will', 'u', 'time', 'just', 'happy', 'like']"
            ]
          },
          "metadata": {},
          "execution_count": 124
        }
      ]
    },
    {
      "cell_type": "code",
      "source": [
        "vocabulary = {v: k for k, v in dict(enumerate(token_filtered_top, 1)).items()}\n",
        "# vocabulary"
      ],
      "metadata": {
        "id": "mt8anyqQAzph"
      },
      "execution_count": 125,
      "outputs": []
    },
    {
      "cell_type": "code",
      "source": [
        "def text_to_sequence(text, maxlen):\n",
        "  result=[]\n",
        "  tokens = word_tokenize(text.lower())\n",
        "  tokens_filtered = [word for word in tokens if word.isalnum()]\n",
        "  for word in tokens_filtered:\n",
        "    if word in vocabulary:\n",
        "      result.append(vocabulary[word])\n",
        "  padding = [0] * (maxlen - len(result))\n",
        "  return result[-maxlen:] + padding"
      ],
      "metadata": {
        "id": "e-IoqZ8mA19K"
      },
      "execution_count": 126,
      "outputs": []
    },
    {
      "cell_type": "code",
      "source": [
        "%%time\n",
        "x_train = np.asarray([text_to_sequence(text, max_len) for text in df_train['tweet']])\n",
        "x_val = np.asarray([text_to_sequence(text, max_len) for text in df_val['tweet']])\n",
        "x_test = np.asarray([text_to_sequence(text, max_len) for text in df_test[\"tweet\"]])"
      ],
      "metadata": {
        "colab": {
          "base_uri": "https://localhost:8080/"
        },
        "id": "GA8rfXfYA_wZ",
        "outputId": "300f847a-5a5b-489a-e2ca-83c15522f7a6"
      },
      "execution_count": 127,
      "outputs": [
        {
          "output_type": "stream",
          "name": "stdout",
          "text": [
            "CPU times: user 4.29 s, sys: 10.6 ms, total: 4.3 s\n",
            "Wall time: 4.32 s\n"
          ]
        }
      ]
    },
    {
      "cell_type": "code",
      "source": [
        "x_train.shape"
      ],
      "metadata": {
        "colab": {
          "base_uri": "https://localhost:8080/"
        },
        "id": "PsiVUUP1BNEg",
        "outputId": "35b58da4-c61d-498f-c1dd-f73ef970db07"
      },
      "execution_count": 128,
      "outputs": [
        {
          "output_type": "execute_result",
          "data": {
            "text/plain": [
              "(17978, 15)"
            ]
          },
          "metadata": {},
          "execution_count": 128
        }
      ]
    },
    {
      "cell_type": "code",
      "source": [
        "df_train['tweet'].iloc[:5]"
      ],
      "metadata": {
        "colab": {
          "base_uri": "https://localhost:8080/"
        },
        "id": "Mv7cxB9RBSz0",
        "outputId": "b4381d1f-13ad-4bb6-9464-2ad84451d7b2"
      },
      "execution_count": 129,
      "outputs": [
        {
          "output_type": "execute_result",
          "data": {
            "text/plain": [
              "11307                       interstellar really hits feels\n",
              "23820                      words needed love peace respect\n",
              "20561       large general s gbp 990 get shop cool home fun\n",
              "24218    award winning chilli sauces ðð celebrate...\n",
              "27194    mindsconsole best way avoid disappointment exp...\n",
              "Name: tweet, dtype: object"
            ]
          },
          "metadata": {},
          "execution_count": 129
        }
      ]
    },
    {
      "cell_type": "code",
      "source": [
        "x_train[:5]"
      ],
      "metadata": {
        "colab": {
          "base_uri": "https://localhost:8080/"
        },
        "id": "R58EcYj3Bc1W",
        "outputId": "c955fb2e-e668-4682-953b-23484f6648f6"
      },
      "execution_count": 130,
      "outputs": [
        {
          "output_type": "execute_result",
          "data": {
            "text/plain": [
              "array([[  52, 1324,  610,    0,    0,    0,    0,    0,    0,    0,    0,\n",
              "           0,    0,    0,    0],\n",
              "       [ 334,  737,    2,  155,  886,    0,    0,    0,    0,    0,    0,\n",
              "           0,    0,    0,    0],\n",
              "       [ 367,  583,   13,  309,  203,   62,   37,    0,    0,    0,    0,\n",
              "           0,    0,    0,    0],\n",
              "       [1381, 1249,  374,    0,    0,    0,    0,    0,    0,    0,    0,\n",
              "           0,    0,    0,    0],\n",
              "       [  55,   44, 1796, 1250,  359,  421,  336,    0,    0,    0,    0,\n",
              "           0,    0,    0,    0]])"
            ]
          },
          "metadata": {},
          "execution_count": 130
        }
      ]
    },
    {
      "cell_type": "code",
      "source": [
        "class Net(nn.Module):\n",
        "  def __init__(self, vocab_size=2000, embedding_dim=128, out_channel=128, num_classes=1):\n",
        "    super().__init__()\n",
        "    self.embedding = nn.Embedding(vocab_size, embedding_dim)\n",
        "    self.conv_1= nn.Conv1d(embedding_dim, out_channel, kernel_size=2)\n",
        "    self.conv_2 = nn.Conv1d(embedding_dim, out_channel, kernel_size=3)\n",
        "    self.dro = nn.Dropout(0.2)\n",
        "    self.pool = nn.MaxPool1d(2)\n",
        "    self.relu=nn.ReLU()\n",
        "    self.linear_1 = nn.Linear(out_channel, out_channel // 2)\n",
        "    self.linear_2 = nn.Linear(out_channel // 2, num_classes)\n",
        "\n",
        "  def forward(self, x):\n",
        "    output = self.embedding(x) \n",
        "    output = output.permute(0,2,1)\n",
        "\n",
        "    output = self.conv_1(output)\n",
        "    output = self.dro(output)\n",
        "    output = self.relu(output)\n",
        "    output = self.pool(output)\n",
        "    output = self.conv_2(output)\n",
        "    output = self.dro(output)\n",
        "    output = self.relu(output)\n",
        "    output = self.pool(output)\n",
        "    output = torch.max(output, axis=2).values\n",
        "    output = self.linear_1(output)\n",
        "    output = self.relu(output)\n",
        "    output = self.linear_2(output)\n",
        "    output = F.sigmoid(output)\n",
        "    return output"
      ],
      "metadata": {
        "id": "eboHQ2yXCFJb"
      },
      "execution_count": 131,
      "outputs": []
    },
    {
      "cell_type": "code",
      "source": [
        "class DataWrapper(Dataset):\n",
        "    def __init__(self, data, target, transform=None):\n",
        "        self.data = torch.from_numpy(data).long()\n",
        "        self.target = torch.from_numpy(target).long()\n",
        "        self.transform = transform\n",
        "        \n",
        "    def __getitem__(self, index):\n",
        "        x = self.data[index]\n",
        "        y = self.target[index]\n",
        "        \n",
        "        if self.transform:\n",
        "            x = self.transform(x)\n",
        "            \n",
        "        return x, y\n",
        "    \n",
        "    def __len__(self):\n",
        "        return len(self.data)"
      ],
      "metadata": {
        "id": "kklmHc73D1ct"
      },
      "execution_count": 132,
      "outputs": []
    },
    {
      "cell_type": "code",
      "source": [
        "train_dataset = DataWrapper(x_train, df_train['label'].values)\n",
        "train_loader = DataLoader(train_dataset, batch_size=batch_size, shuffle=True)\n",
        "\n",
        "val_dataset = DataWrapper(x_val, df_val['label'].values)\n",
        "val_loader = DataLoader(val_dataset, batch_size=8, shuffle=True)"
      ],
      "metadata": {
        "id": "uahSlPpzEFHz"
      },
      "execution_count": 133,
      "outputs": []
    },
    {
      "cell_type": "code",
      "source": [
        "for x, l in train_loader:\n",
        "    print(x.shape)\n",
        "    print(l.shape)\n",
        "    print(l[0])\n",
        "    break"
      ],
      "metadata": {
        "colab": {
          "base_uri": "https://localhost:8080/"
        },
        "id": "map_ytCPEN41",
        "outputId": "5d23961c-043a-4b03-9e17-4a488f2cf3b8"
      },
      "execution_count": 134,
      "outputs": [
        {
          "output_type": "stream",
          "name": "stdout",
          "text": [
            "torch.Size([512, 15])\n",
            "torch.Size([512])\n",
            "tensor(0)\n"
          ]
        }
      ]
    },
    {
      "cell_type": "code",
      "source": [
        "model = Net(vocab_size=max_words)"
      ],
      "metadata": {
        "id": "HOS0AJRQEWH8"
      },
      "execution_count": 135,
      "outputs": []
    },
    {
      "cell_type": "code",
      "source": [
        "print(model)\n",
        "print(\"Parameters:\", sum([param.nelement() for param in model.parameters()]))"
      ],
      "metadata": {
        "colab": {
          "base_uri": "https://localhost:8080/"
        },
        "id": "5pvMZuhsEYTp",
        "outputId": "19afd8d0-daba-4219-fd29-d19738c91040"
      },
      "execution_count": 136,
      "outputs": [
        {
          "output_type": "stream",
          "name": "stdout",
          "text": [
            "Net(\n",
            "  (embedding): Embedding(2000, 128)\n",
            "  (conv_1): Conv1d(128, 128, kernel_size=(2,), stride=(1,))\n",
            "  (conv_2): Conv1d(128, 128, kernel_size=(3,), stride=(1,))\n",
            "  (dro): Dropout(p=0.2, inplace=False)\n",
            "  (pool): MaxPool1d(kernel_size=2, stride=2, padding=0, dilation=1, ceil_mode=False)\n",
            "  (relu): ReLU()\n",
            "  (linear_1): Linear(in_features=128, out_features=64, bias=True)\n",
            "  (linear_2): Linear(in_features=64, out_features=1, bias=True)\n",
            ")\n",
            "Parameters: 346497\n"
          ]
        }
      ]
    },
    {
      "cell_type": "code",
      "source": [
        "optimizer = torch.optim.Adam(model.parameters(), lr=0.01)\n",
        "criterion = nn.BCELoss()    "
      ],
      "metadata": {
        "id": "1TeCKYshEmob"
      },
      "execution_count": 137,
      "outputs": []
    },
    {
      "cell_type": "code",
      "source": [
        "model = model.to(device)\n",
        "model.train()\n",
        "th=0.5\n",
        "\n",
        "train_loss_history = []\n",
        "test_loss_history = []\n",
        "\n",
        "for epoch in range(epochs):\n",
        "  running_items, running_right = 0.0, 0.0\n",
        "  for i, data in enumerate (train_loader, 0):\n",
        "    inputs, labels = data[0].to(device), data[1].to(device)\n",
        "\n",
        "    optimizer.zero_grad()\n",
        "    outputs = model(inputs)\n",
        "\n",
        "    loss = criterion(outputs, labels.float().view(-1, 1))\n",
        "    loss.backward()\n",
        "    optimizer.step()\n",
        "\n",
        "    loss = loss.item()\n",
        "    running_items += len(labels)\n",
        "    pred_labels = torch.squeeze((outputs > th).int())\n",
        "    running_right += (labels == pred_labels).sum()\n",
        "\n",
        "    model.eval()\n",
        "\n",
        "    print(f'Epoch [{epoch + 1}/{epochs}]. ' \\\n",
        "            f'Step [{i + 1}/{len(train_loader)}]. ' \\\n",
        "            f'Loss: {loss:.3f}. ' \\\n",
        "            f'Acc: {running_right / running_items:.3f}', end='. ')\n",
        "    running_loss, running_items, running_right = 0.0, 0.0, 0.0\n",
        "    train_loss_history.append(loss)\n",
        "\n",
        "    # выводим статистику на тестовых данных\n",
        "    test_running_right, test_running_total, test_loss = 0.0, 0.0, 0.0\n",
        "    for j, data in enumerate(val_loader):\n",
        "        test_labels = data[1].to(device)\n",
        "        test_outputs = model(data[0].to(device))\n",
        "        \n",
        "        # подсчет ошибки на тесте\n",
        "        test_loss = criterion(test_outputs, test_labels.float().view(-1, 1))\n",
        "        # подсчет метрики на тесте\n",
        "        test_running_total += len(data[1])\n",
        "        pred_test_labels = torch.squeeze((test_outputs > th).int())\n",
        "        test_running_right += (test_labels == pred_test_labels).sum()\n",
        "    \n",
        "    test_loss_history.append(test_loss.item())\n",
        "    print(f'Test loss: {test_loss:.3f}. Test acc: {test_running_right / test_running_total:.3f}')\n",
        "        \n",
        "print('Training is finished!')"
      ],
      "metadata": {
        "colab": {
          "base_uri": "https://localhost:8080/"
        },
        "id": "A_Qvg0INEoOh",
        "outputId": "f35cd33f-da6a-4431-f4b2-b344c748d0ab"
      },
      "execution_count": 138,
      "outputs": [
        {
          "output_type": "stream",
          "name": "stdout",
          "text": [
            "Epoch [1/5]. Step [1/36]. Loss: 0.689. Acc: 0.574. Test loss: 0.000. Test acc: 0.926\n",
            "Epoch [1/5]. Step [2/36]. Loss: 0.582. Acc: 0.928. Test loss: 0.082. Test acc: 0.926\n",
            "Epoch [1/5]. Step [3/36]. Loss: 0.255. Acc: 0.928. Test loss: 0.212. Test acc: 0.926\n",
            "Epoch [1/5]. Step [4/36]. Loss: 0.267. Acc: 0.959. Test loss: 2.008. Test acc: 0.926\n",
            "Epoch [1/5]. Step [5/36]. Loss: 0.294. Acc: 0.920. Test loss: 0.029. Test acc: 0.926\n",
            "Epoch [1/5]. Step [6/36]. Loss: 0.255. Acc: 0.936. Test loss: 0.018. Test acc: 0.926\n",
            "Epoch [1/5]. Step [7/36]. Loss: 0.247. Acc: 0.941. Test loss: 0.007. Test acc: 0.926\n",
            "Epoch [1/5]. Step [8/36]. Loss: 0.303. Acc: 0.924. Test loss: 0.031. Test acc: 0.926\n",
            "Epoch [1/5]. Step [9/36]. Loss: 0.227. Acc: 0.936. Test loss: 0.051. Test acc: 0.926\n",
            "Epoch [1/5]. Step [10/36]. Loss: 0.217. Acc: 0.936. Test loss: 0.151. Test acc: 0.926\n",
            "Epoch [1/5]. Step [11/36]. Loss: 0.227. Acc: 0.938. Test loss: 0.077. Test acc: 0.926\n",
            "Epoch [1/5]. Step [12/36]. Loss: 0.234. Acc: 0.938. Test loss: 0.096. Test acc: 0.926\n",
            "Epoch [1/5]. Step [13/36]. Loss: 0.255. Acc: 0.920. Test loss: 0.047. Test acc: 0.926\n",
            "Epoch [1/5]. Step [14/36]. Loss: 0.195. Acc: 0.945. Test loss: 0.033. Test acc: 0.926\n",
            "Epoch [1/5]. Step [15/36]. Loss: 0.196. Acc: 0.941. Test loss: 0.007. Test acc: 0.926\n",
            "Epoch [1/5]. Step [16/36]. Loss: 0.223. Acc: 0.936. Test loss: 0.004. Test acc: 0.926\n",
            "Epoch [1/5]. Step [17/36]. Loss: 0.239. Acc: 0.930. Test loss: 0.100. Test acc: 0.926\n",
            "Epoch [1/5]. Step [18/36]. Loss: 0.197. Acc: 0.943. Test loss: 0.016. Test acc: 0.926\n",
            "Epoch [1/5]. Step [19/36]. Loss: 0.203. Acc: 0.938. Test loss: 0.014. Test acc: 0.926\n",
            "Epoch [1/5]. Step [20/36]. Loss: 0.228. Acc: 0.926. Test loss: 1.575. Test acc: 0.926\n",
            "Epoch [1/5]. Step [21/36]. Loss: 0.215. Acc: 0.930. Test loss: 0.209. Test acc: 0.926\n",
            "Epoch [1/5]. Step [22/36]. Loss: 0.200. Acc: 0.932. Test loss: 0.036. Test acc: 0.926\n",
            "Epoch [1/5]. Step [23/36]. Loss: 0.223. Acc: 0.934. Test loss: 2.088. Test acc: 0.926\n",
            "Epoch [1/5]. Step [24/36]. Loss: 0.219. Acc: 0.932. Test loss: 0.069. Test acc: 0.926\n",
            "Epoch [1/5]. Step [25/36]. Loss: 0.194. Acc: 0.943. Test loss: 0.050. Test acc: 0.926\n",
            "Epoch [1/5]. Step [26/36]. Loss: 0.240. Acc: 0.920. Test loss: 0.042. Test acc: 0.926\n",
            "Epoch [1/5]. Step [27/36]. Loss: 0.230. Acc: 0.920. Test loss: 2.422. Test acc: 0.926\n",
            "Epoch [1/5]. Step [28/36]. Loss: 0.256. Acc: 0.908. Test loss: 0.104. Test acc: 0.926\n",
            "Epoch [1/5]. Step [29/36]. Loss: 0.261. Acc: 0.900. Test loss: 0.023. Test acc: 0.926\n",
            "Epoch [1/5]. Step [30/36]. Loss: 0.206. Acc: 0.934. Test loss: 0.002. Test acc: 0.926\n",
            "Epoch [1/5]. Step [31/36]. Loss: 0.207. Acc: 0.920. Test loss: 0.038. Test acc: 0.926\n",
            "Epoch [1/5]. Step [32/36]. Loss: 0.203. Acc: 0.928. Test loss: 0.001. Test acc: 0.926\n",
            "Epoch [1/5]. Step [33/36]. Loss: 0.204. Acc: 0.939. Test loss: 0.002. Test acc: 0.926\n",
            "Epoch [1/5]. Step [34/36]. Loss: 0.197. Acc: 0.928. Test loss: 0.105. Test acc: 0.926\n",
            "Epoch [1/5]. Step [35/36]. Loss: 0.204. Acc: 0.936. Test loss: 0.066. Test acc: 0.926\n",
            "Epoch [1/5]. Step [36/36]. Loss: 0.223. Acc: 0.914. Test loss: 0.332. Test acc: 0.926\n",
            "Epoch [2/5]. Step [1/36]. Loss: 0.193. Acc: 0.930. Test loss: 0.021. Test acc: 0.926\n",
            "Epoch [2/5]. Step [2/36]. Loss: 0.183. Acc: 0.924. Test loss: 0.287. Test acc: 0.926\n",
            "Epoch [2/5]. Step [3/36]. Loss: 0.191. Acc: 0.926. Test loss: 0.012. Test acc: 0.926\n",
            "Epoch [2/5]. Step [4/36]. Loss: 0.257. Acc: 0.906. Test loss: 0.174. Test acc: 0.926\n",
            "Epoch [2/5]. Step [5/36]. Loss: 0.168. Acc: 0.928. Test loss: 0.002. Test acc: 0.926\n",
            "Epoch [2/5]. Step [6/36]. Loss: 0.200. Acc: 0.906. Test loss: 0.048. Test acc: 0.926\n",
            "Epoch [2/5]. Step [7/36]. Loss: 0.149. Acc: 0.939. Test loss: 0.034. Test acc: 0.926\n",
            "Epoch [2/5]. Step [8/36]. Loss: 0.154. Acc: 0.934. Test loss: 0.013. Test acc: 0.926\n",
            "Epoch [2/5]. Step [9/36]. Loss: 0.163. Acc: 0.939. Test loss: 0.008. Test acc: 0.926\n",
            "Epoch [2/5]. Step [10/36]. Loss: 0.185. Acc: 0.912. Test loss: 0.001. Test acc: 0.926\n",
            "Epoch [2/5]. Step [11/36]. Loss: 0.161. Acc: 0.928. Test loss: 2.816. Test acc: 0.926\n",
            "Epoch [2/5]. Step [12/36]. Loss: 0.189. Acc: 0.920. Test loss: 0.003. Test acc: 0.926\n",
            "Epoch [2/5]. Step [13/36]. Loss: 0.150. Acc: 0.939. Test loss: 0.330. Test acc: 0.926\n",
            "Epoch [2/5]. Step [14/36]. Loss: 0.158. Acc: 0.934. Test loss: 0.046. Test acc: 0.926\n",
            "Epoch [2/5]. Step [15/36]. Loss: 0.153. Acc: 0.934. Test loss: 0.008. Test acc: 0.926\n",
            "Epoch [2/5]. Step [16/36]. Loss: 0.161. Acc: 0.924. Test loss: 0.046. Test acc: 0.926\n",
            "Epoch [2/5]. Step [17/36]. Loss: 0.172. Acc: 0.922. Test loss: 0.000. Test acc: 0.926\n",
            "Epoch [2/5]. Step [18/36]. Loss: 0.142. Acc: 0.943. Test loss: 0.037. Test acc: 0.926\n",
            "Epoch [2/5]. Step [19/36]. Loss: 0.160. Acc: 0.928. Test loss: 0.079. Test acc: 0.926\n",
            "Epoch [2/5]. Step [20/36]. Loss: 0.176. Acc: 0.918. Test loss: 0.015. Test acc: 0.926\n",
            "Epoch [2/5]. Step [21/36]. Loss: 0.154. Acc: 0.930. Test loss: 0.000. Test acc: 0.926\n",
            "Epoch [2/5]. Step [22/36]. Loss: 0.161. Acc: 0.922. Test loss: 0.000. Test acc: 0.926\n",
            "Epoch [2/5]. Step [23/36]. Loss: 0.136. Acc: 0.938. Test loss: 0.000. Test acc: 0.926\n",
            "Epoch [2/5]. Step [24/36]. Loss: 0.151. Acc: 0.916. Test loss: 0.853. Test acc: 0.926\n",
            "Epoch [2/5]. Step [25/36]. Loss: 0.158. Acc: 0.928. Test loss: 0.001. Test acc: 0.926\n",
            "Epoch [2/5]. Step [26/36]. Loss: 0.196. Acc: 0.932. Test loss: 0.184. Test acc: 0.926\n",
            "Epoch [2/5]. Step [27/36]. Loss: 0.143. Acc: 0.938. Test loss: 0.002. Test acc: 0.926\n",
            "Epoch [2/5]. Step [28/36]. Loss: 0.139. Acc: 0.938. Test loss: 0.000. Test acc: 0.926\n",
            "Epoch [2/5]. Step [29/36]. Loss: 0.150. Acc: 0.939. Test loss: 0.063. Test acc: 0.926\n",
            "Epoch [2/5]. Step [30/36]. Loss: 0.109. Acc: 0.951. Test loss: 0.000. Test acc: 0.926\n",
            "Epoch [2/5]. Step [31/36]. Loss: 0.116. Acc: 0.951. Test loss: 0.010. Test acc: 0.926\n",
            "Epoch [2/5]. Step [32/36]. Loss: 0.124. Acc: 0.938. Test loss: 0.000. Test acc: 0.926\n",
            "Epoch [2/5]. Step [33/36]. Loss: 0.156. Acc: 0.930. Test loss: 0.805. Test acc: 0.926\n",
            "Epoch [2/5]. Step [34/36]. Loss: 0.139. Acc: 0.947. Test loss: 1.948. Test acc: 0.926\n",
            "Epoch [2/5]. Step [35/36]. Loss: 0.112. Acc: 0.951. Test loss: 0.001. Test acc: 0.926\n",
            "Epoch [2/5]. Step [36/36]. Loss: 0.075. Acc: 0.966. Test loss: 0.008. Test acc: 0.926\n",
            "Epoch [3/5]. Step [1/36]. Loss: 0.113. Acc: 0.949. Test loss: 0.023. Test acc: 0.926\n",
            "Epoch [3/5]. Step [2/36]. Loss: 0.092. Acc: 0.945. Test loss: 0.022. Test acc: 0.926\n",
            "Epoch [3/5]. Step [3/36]. Loss: 0.159. Acc: 0.914. Test loss: 0.000. Test acc: 0.926\n",
            "Epoch [3/5]. Step [4/36]. Loss: 0.134. Acc: 0.926. Test loss: 0.036. Test acc: 0.940\n",
            "Epoch [3/5]. Step [5/36]. Loss: 0.121. Acc: 0.947. Test loss: 0.000. Test acc: 0.941\n",
            "Epoch [3/5]. Step [6/36]. Loss: 0.124. Acc: 0.943. Test loss: 0.256. Test acc: 0.942\n",
            "Epoch [3/5]. Step [7/36]. Loss: 0.125. Acc: 0.943. Test loss: 0.000. Test acc: 0.942\n",
            "Epoch [3/5]. Step [8/36]. Loss: 0.112. Acc: 0.947. Test loss: 0.103. Test acc: 0.944\n",
            "Epoch [3/5]. Step [9/36]. Loss: 0.150. Acc: 0.947. Test loss: 0.091. Test acc: 0.944\n",
            "Epoch [3/5]. Step [10/36]. Loss: 0.105. Acc: 0.971. Test loss: 5.319. Test acc: 0.944\n",
            "Epoch [3/5]. Step [11/36]. Loss: 0.086. Acc: 0.965. Test loss: 0.000. Test acc: 0.942\n",
            "Epoch [3/5]. Step [12/36]. Loss: 0.160. Acc: 0.928. Test loss: 0.029. Test acc: 0.945\n",
            "Epoch [3/5]. Step [13/36]. Loss: 0.099. Acc: 0.959. Test loss: 0.003. Test acc: 0.941\n",
            "Epoch [3/5]. Step [14/36]. Loss: 0.107. Acc: 0.963. Test loss: 0.014. Test acc: 0.938\n",
            "Epoch [3/5]. Step [15/36]. Loss: 0.101. Acc: 0.977. Test loss: 0.060. Test acc: 0.944\n",
            "Epoch [3/5]. Step [16/36]. Loss: 0.115. Acc: 0.957. Test loss: 0.000. Test acc: 0.945\n",
            "Epoch [3/5]. Step [17/36]. Loss: 0.110. Acc: 0.953. Test loss: 0.006. Test acc: 0.944\n",
            "Epoch [3/5]. Step [18/36]. Loss: 0.128. Acc: 0.953. Test loss: 0.002. Test acc: 0.944\n",
            "Epoch [3/5]. Step [19/36]. Loss: 0.142. Acc: 0.945. Test loss: 0.000. Test acc: 0.944\n",
            "Epoch [3/5]. Step [20/36]. Loss: 0.114. Acc: 0.953. Test loss: 0.002. Test acc: 0.944\n",
            "Epoch [3/5]. Step [21/36]. Loss: 0.168. Acc: 0.951. Test loss: 0.105. Test acc: 0.943\n",
            "Epoch [3/5]. Step [22/36]. Loss: 0.125. Acc: 0.959. Test loss: 0.000. Test acc: 0.941\n",
            "Epoch [3/5]. Step [23/36]. Loss: 0.110. Acc: 0.969. Test loss: 0.168. Test acc: 0.943\n",
            "Epoch [3/5]. Step [24/36]. Loss: 0.112. Acc: 0.969. Test loss: 0.000. Test acc: 0.943\n",
            "Epoch [3/5]. Step [25/36]. Loss: 0.099. Acc: 0.963. Test loss: 0.000. Test acc: 0.940\n",
            "Epoch [3/5]. Step [26/36]. Loss: 0.151. Acc: 0.938. Test loss: 0.004. Test acc: 0.939\n",
            "Epoch [3/5]. Step [27/36]. Loss: 0.146. Acc: 0.926. Test loss: 0.000. Test acc: 0.941\n",
            "Epoch [3/5]. Step [28/36]. Loss: 0.110. Acc: 0.953. Test loss: 0.034. Test acc: 0.945\n",
            "Epoch [3/5]. Step [29/36]. Loss: 0.095. Acc: 0.961. Test loss: 0.003. Test acc: 0.945\n",
            "Epoch [3/5]. Step [30/36]. Loss: 0.106. Acc: 0.963. Test loss: 0.000. Test acc: 0.945\n",
            "Epoch [3/5]. Step [31/36]. Loss: 0.106. Acc: 0.957. Test loss: 2.792. Test acc: 0.944\n",
            "Epoch [3/5]. Step [32/36]. Loss: 0.108. Acc: 0.957. Test loss: 0.380. Test acc: 0.944\n",
            "Epoch [3/5]. Step [33/36]. Loss: 0.172. Acc: 0.936. Test loss: 0.110. Test acc: 0.945\n",
            "Epoch [3/5]. Step [34/36]. Loss: 0.166. Acc: 0.936. Test loss: 0.001. Test acc: 0.940\n",
            "Epoch [3/5]. Step [35/36]. Loss: 0.132. Acc: 0.949. Test loss: 0.000. Test acc: 0.940\n",
            "Epoch [3/5]. Step [36/36]. Loss: 0.131. Acc: 0.948. Test loss: 0.000. Test acc: 0.943\n",
            "Epoch [4/5]. Step [1/36]. Loss: 0.107. Acc: 0.959. Test loss: 0.002. Test acc: 0.944\n",
            "Epoch [4/5]. Step [2/36]. Loss: 0.103. Acc: 0.951. Test loss: 0.000. Test acc: 0.941\n",
            "Epoch [4/5]. Step [3/36]. Loss: 0.082. Acc: 0.965. Test loss: 0.000. Test acc: 0.941\n",
            "Epoch [4/5]. Step [4/36]. Loss: 0.100. Acc: 0.957. Test loss: 0.000. Test acc: 0.942\n",
            "Epoch [4/5]. Step [5/36]. Loss: 0.083. Acc: 0.967. Test loss: 0.370. Test acc: 0.944\n",
            "Epoch [4/5]. Step [6/36]. Loss: 0.101. Acc: 0.955. Test loss: 0.000. Test acc: 0.944\n",
            "Epoch [4/5]. Step [7/36]. Loss: 0.090. Acc: 0.969. Test loss: 0.742. Test acc: 0.938\n",
            "Epoch [4/5]. Step [8/36]. Loss: 0.105. Acc: 0.961. Test loss: 3.977. Test acc: 0.934\n",
            "Epoch [4/5]. Step [9/36]. Loss: 0.068. Acc: 0.982. Test loss: 0.000. Test acc: 0.937\n",
            "Epoch [4/5]. Step [10/36]. Loss: 0.082. Acc: 0.979. Test loss: 10.436. Test acc: 0.939\n",
            "Epoch [4/5]. Step [11/36]. Loss: 0.083. Acc: 0.980. Test loss: 0.000. Test acc: 0.943\n",
            "Epoch [4/5]. Step [12/36]. Loss: 0.088. Acc: 0.957. Test loss: 0.639. Test acc: 0.944\n",
            "Epoch [4/5]. Step [13/36]. Loss: 0.116. Acc: 0.969. Test loss: 0.000. Test acc: 0.944\n",
            "Epoch [4/5]. Step [14/36]. Loss: 0.097. Acc: 0.963. Test loss: 0.000. Test acc: 0.943\n",
            "Epoch [4/5]. Step [15/36]. Loss: 0.081. Acc: 0.975. Test loss: 0.001. Test acc: 0.942\n",
            "Epoch [4/5]. Step [16/36]. Loss: 0.079. Acc: 0.973. Test loss: 0.000. Test acc: 0.942\n",
            "Epoch [4/5]. Step [17/36]. Loss: 0.081. Acc: 0.973. Test loss: 0.000. Test acc: 0.942\n",
            "Epoch [4/5]. Step [18/36]. Loss: 0.114. Acc: 0.961. Test loss: 0.336. Test acc: 0.940\n",
            "Epoch [4/5]. Step [19/36]. Loss: 0.083. Acc: 0.969. Test loss: 0.018. Test acc: 0.938\n",
            "Epoch [4/5]. Step [20/36]. Loss: 0.116. Acc: 0.973. Test loss: 5.593. Test acc: 0.939\n",
            "Epoch [4/5]. Step [21/36]. Loss: 0.115. Acc: 0.965. Test loss: 0.000. Test acc: 0.941\n",
            "Epoch [4/5]. Step [22/36]. Loss: 0.108. Acc: 0.957. Test loss: 0.000. Test acc: 0.942\n",
            "Epoch [4/5]. Step [23/36]. Loss: 0.089. Acc: 0.967. Test loss: 0.000. Test acc: 0.943\n",
            "Epoch [4/5]. Step [24/36]. Loss: 0.127. Acc: 0.951. Test loss: 0.000. Test acc: 0.943\n",
            "Epoch [4/5]. Step [25/36]. Loss: 0.071. Acc: 0.977. Test loss: 0.019. Test acc: 0.943\n",
            "Epoch [4/5]. Step [26/36]. Loss: 0.118. Acc: 0.969. Test loss: 0.000. Test acc: 0.942\n",
            "Epoch [4/5]. Step [27/36]. Loss: 0.093. Acc: 0.957. Test loss: 0.000. Test acc: 0.940\n",
            "Epoch [4/5]. Step [28/36]. Loss: 0.089. Acc: 0.961. Test loss: 0.000. Test acc: 0.940\n",
            "Epoch [4/5]. Step [29/36]. Loss: 0.108. Acc: 0.955. Test loss: 0.009. Test acc: 0.936\n",
            "Epoch [4/5]. Step [30/36]. Loss: 0.106. Acc: 0.963. Test loss: 0.016. Test acc: 0.938\n",
            "Epoch [4/5]. Step [31/36]. Loss: 0.085. Acc: 0.971. Test loss: 0.005. Test acc: 0.940\n",
            "Epoch [4/5]. Step [32/36]. Loss: 0.094. Acc: 0.969. Test loss: 0.000. Test acc: 0.943\n",
            "Epoch [4/5]. Step [33/36]. Loss: 0.100. Acc: 0.969. Test loss: 0.000. Test acc: 0.943\n",
            "Epoch [4/5]. Step [34/36]. Loss: 0.123. Acc: 0.951. Test loss: 0.000. Test acc: 0.942\n",
            "Epoch [4/5]. Step [35/36]. Loss: 0.089. Acc: 0.955. Test loss: 0.000. Test acc: 0.942\n",
            "Epoch [4/5]. Step [36/36]. Loss: 0.154. Acc: 0.948. Test loss: 0.000. Test acc: 0.937\n",
            "Epoch [5/5]. Step [1/36]. Loss: 0.099. Acc: 0.977. Test loss: 0.022. Test acc: 0.936\n",
            "Epoch [5/5]. Step [2/36]. Loss: 0.084. Acc: 0.982. Test loss: 0.000. Test acc: 0.936\n",
            "Epoch [5/5]. Step [3/36]. Loss: 0.090. Acc: 0.975. Test loss: 0.103. Test acc: 0.940\n",
            "Epoch [5/5]. Step [4/36]. Loss: 0.072. Acc: 0.988. Test loss: 0.000. Test acc: 0.942\n",
            "Epoch [5/5]. Step [5/36]. Loss: 0.097. Acc: 0.965. Test loss: 0.000. Test acc: 0.942\n",
            "Epoch [5/5]. Step [6/36]. Loss: 0.073. Acc: 0.967. Test loss: 0.288. Test acc: 0.942\n",
            "Epoch [5/5]. Step [7/36]. Loss: 0.062. Acc: 0.982. Test loss: 0.000. Test acc: 0.944\n",
            "Epoch [5/5]. Step [8/36]. Loss: 0.093. Acc: 0.965. Test loss: 0.011. Test acc: 0.944\n",
            "Epoch [5/5]. Step [9/36]. Loss: 0.114. Acc: 0.957. Test loss: 0.000. Test acc: 0.941\n",
            "Epoch [5/5]. Step [10/36]. Loss: 0.096. Acc: 0.965. Test loss: 0.000. Test acc: 0.933\n",
            "Epoch [5/5]. Step [11/36]. Loss: 0.089. Acc: 0.971. Test loss: 0.002. Test acc: 0.929\n",
            "Epoch [5/5]. Step [12/36]. Loss: 0.092. Acc: 0.967. Test loss: 0.000. Test acc: 0.934\n",
            "Epoch [5/5]. Step [13/36]. Loss: 0.077. Acc: 0.984. Test loss: 0.000. Test acc: 0.937\n",
            "Epoch [5/5]. Step [14/36]. Loss: 0.073. Acc: 0.975. Test loss: 0.000. Test acc: 0.939\n",
            "Epoch [5/5]. Step [15/36]. Loss: 0.080. Acc: 0.977. Test loss: 0.014. Test acc: 0.942\n",
            "Epoch [5/5]. Step [16/36]. Loss: 0.097. Acc: 0.971. Test loss: 7.558. Test acc: 0.941\n",
            "Epoch [5/5]. Step [17/36]. Loss: 0.077. Acc: 0.973. Test loss: 0.000. Test acc: 0.937\n",
            "Epoch [5/5]. Step [18/36]. Loss: 0.095. Acc: 0.967. Test loss: 0.000. Test acc: 0.934\n",
            "Epoch [5/5]. Step [19/36]. Loss: 0.088. Acc: 0.969. Test loss: 0.000. Test acc: 0.931\n",
            "Epoch [5/5]. Step [20/36]. Loss: 0.082. Acc: 0.971. Test loss: 0.000. Test acc: 0.927\n",
            "Epoch [5/5]. Step [21/36]. Loss: 0.076. Acc: 0.982. Test loss: 14.299. Test acc: 0.925\n",
            "Epoch [5/5]. Step [22/36]. Loss: 0.084. Acc: 0.955. Test loss: 0.000. Test acc: 0.931\n",
            "Epoch [5/5]. Step [23/36]. Loss: 0.084. Acc: 0.969. Test loss: 0.003. Test acc: 0.936\n",
            "Epoch [5/5]. Step [24/36]. Loss: 0.095. Acc: 0.975. Test loss: 0.000. Test acc: 0.940\n",
            "Epoch [5/5]. Step [25/36]. Loss: 0.077. Acc: 0.979. Test loss: 0.000. Test acc: 0.941\n",
            "Epoch [5/5]. Step [26/36]. Loss: 0.066. Acc: 0.975. Test loss: 0.000. Test acc: 0.941\n",
            "Epoch [5/5]. Step [27/36]. Loss: 0.098. Acc: 0.969. Test loss: 0.000. Test acc: 0.940\n",
            "Epoch [5/5]. Step [28/36]. Loss: 0.080. Acc: 0.975. Test loss: 0.000. Test acc: 0.939\n",
            "Epoch [5/5]. Step [29/36]. Loss: 0.086. Acc: 0.967. Test loss: 0.000. Test acc: 0.937\n",
            "Epoch [5/5]. Step [30/36]. Loss: 0.079. Acc: 0.971. Test loss: 0.009. Test acc: 0.938\n",
            "Epoch [5/5]. Step [31/36]. Loss: 0.092. Acc: 0.967. Test loss: 4.347. Test acc: 0.939\n",
            "Epoch [5/5]. Step [32/36]. Loss: 0.070. Acc: 0.982. Test loss: 0.017. Test acc: 0.940\n",
            "Epoch [5/5]. Step [33/36]. Loss: 0.088. Acc: 0.969. Test loss: 0.001. Test acc: 0.940\n",
            "Epoch [5/5]. Step [34/36]. Loss: 0.070. Acc: 0.971. Test loss: 0.198. Test acc: 0.939\n",
            "Epoch [5/5]. Step [35/36]. Loss: 0.053. Acc: 0.986. Test loss: 0.000. Test acc: 0.939\n",
            "Epoch [5/5]. Step [36/36]. Loss: 0.082. Acc: 0.948. Test loss: 0.000. Test acc: 0.939\n",
            "Training is finished!\n"
          ]
        }
      ]
    },
    {
      "cell_type": "code",
      "source": [
        "import matplotlib.pyplot as plt\n",
        "\n",
        "plt.title('Model Loss history')\n",
        "plt.grid(True)\n",
        "plt.ylabel('Loss')\n",
        "plt.xlabel('Epoch')\n",
        "plt.plot(train_loss_history, label='train')\n",
        "plt.plot(test_loss_history, label='test')\n",
        "plt.legend()"
      ],
      "metadata": {
        "colab": {
          "base_uri": "https://localhost:8080/",
          "height": 509
        },
        "id": "GSeWhIuoE0IA",
        "outputId": "5992e37a-bffe-4bbf-9b7c-9201a8027219"
      },
      "execution_count": 140,
      "outputs": [
        {
          "output_type": "execute_result",
          "data": {
            "text/plain": [
              "<matplotlib.legend.Legend at 0x7fa6f78f7730>"
            ]
          },
          "metadata": {},
          "execution_count": 140
        },
        {
          "output_type": "display_data",
          "data": {
            "text/plain": [
              "<Figure size 640x480 with 1 Axes>"
            ],
            "image/png": "[encoded data removed]"
          },
          "metadata": {}
        }
      ]
    }
  ]
}